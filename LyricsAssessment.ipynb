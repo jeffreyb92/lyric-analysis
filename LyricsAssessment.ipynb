{
 "cells": [
  {
   "cell_type": "code",
   "execution_count": 1,
   "metadata": {},
   "outputs": [],
   "source": [
    "import pandas as pd\n",
    "import numpy as np\n",
    "import matplotlib.pyplot as plt\n",
    "import seaborn as sns\n",
    "%matplotlib inline"
   ]
  },
  {
   "cell_type": "code",
   "execution_count": 2,
   "metadata": {},
   "outputs": [],
   "source": [
    "lyrics = pd.read_csv('lyrics.csv')"
   ]
  },
  {
   "cell_type": "code",
   "execution_count": 3,
   "metadata": {},
   "outputs": [
    {
     "data": {
      "text/html": [
       "<div>\n",
       "<style scoped>\n",
       "    .dataframe tbody tr th:only-of-type {\n",
       "        vertical-align: middle;\n",
       "    }\n",
       "\n",
       "    .dataframe tbody tr th {\n",
       "        vertical-align: top;\n",
       "    }\n",
       "\n",
       "    .dataframe thead th {\n",
       "        text-align: right;\n",
       "    }\n",
       "</style>\n",
       "<table border=\"1\" class=\"dataframe\">\n",
       "  <thead>\n",
       "    <tr style=\"text-align: right;\">\n",
       "      <th></th>\n",
       "      <th>index</th>\n",
       "      <th>song</th>\n",
       "      <th>year</th>\n",
       "      <th>artist</th>\n",
       "      <th>genre</th>\n",
       "      <th>lyrics</th>\n",
       "    </tr>\n",
       "  </thead>\n",
       "  <tbody>\n",
       "    <tr>\n",
       "      <th>0</th>\n",
       "      <td>0</td>\n",
       "      <td>ego-remix</td>\n",
       "      <td>2009</td>\n",
       "      <td>beyonce-knowles</td>\n",
       "      <td>Pop</td>\n",
       "      <td>Oh baby, how you doing?\\nYou know I'm gonna cu...</td>\n",
       "    </tr>\n",
       "    <tr>\n",
       "      <th>1</th>\n",
       "      <td>1</td>\n",
       "      <td>then-tell-me</td>\n",
       "      <td>2009</td>\n",
       "      <td>beyonce-knowles</td>\n",
       "      <td>Pop</td>\n",
       "      <td>playin' everything so easy,\\nit's like you see...</td>\n",
       "    </tr>\n",
       "    <tr>\n",
       "      <th>2</th>\n",
       "      <td>2</td>\n",
       "      <td>honesty</td>\n",
       "      <td>2009</td>\n",
       "      <td>beyonce-knowles</td>\n",
       "      <td>Pop</td>\n",
       "      <td>If you search\\nFor tenderness\\nIt isn't hard t...</td>\n",
       "    </tr>\n",
       "    <tr>\n",
       "      <th>3</th>\n",
       "      <td>3</td>\n",
       "      <td>you-are-my-rock</td>\n",
       "      <td>2009</td>\n",
       "      <td>beyonce-knowles</td>\n",
       "      <td>Pop</td>\n",
       "      <td>Oh oh oh I, oh oh oh I\\n[Verse 1:]\\nIf I wrote...</td>\n",
       "    </tr>\n",
       "    <tr>\n",
       "      <th>4</th>\n",
       "      <td>4</td>\n",
       "      <td>black-culture</td>\n",
       "      <td>2009</td>\n",
       "      <td>beyonce-knowles</td>\n",
       "      <td>Pop</td>\n",
       "      <td>Party the people, the people the party it's po...</td>\n",
       "    </tr>\n",
       "  </tbody>\n",
       "</table>\n",
       "</div>"
      ],
      "text/plain": [
       "   index             song  year           artist genre  \\\n",
       "0      0        ego-remix  2009  beyonce-knowles   Pop   \n",
       "1      1     then-tell-me  2009  beyonce-knowles   Pop   \n",
       "2      2          honesty  2009  beyonce-knowles   Pop   \n",
       "3      3  you-are-my-rock  2009  beyonce-knowles   Pop   \n",
       "4      4    black-culture  2009  beyonce-knowles   Pop   \n",
       "\n",
       "                                              lyrics  \n",
       "0  Oh baby, how you doing?\\nYou know I'm gonna cu...  \n",
       "1  playin' everything so easy,\\nit's like you see...  \n",
       "2  If you search\\nFor tenderness\\nIt isn't hard t...  \n",
       "3  Oh oh oh I, oh oh oh I\\n[Verse 1:]\\nIf I wrote...  \n",
       "4  Party the people, the people the party it's po...  "
      ]
     },
     "execution_count": 3,
     "metadata": {},
     "output_type": "execute_result"
    }
   ],
   "source": [
    "lyrics.head()"
   ]
  },
  {
   "cell_type": "code",
   "execution_count": 4,
   "metadata": {},
   "outputs": [
    {
     "name": "stdout",
     "output_type": "stream",
     "text": [
      "<class 'pandas.core.frame.DataFrame'>\n",
      "RangeIndex: 362237 entries, 0 to 362236\n",
      "Data columns (total 6 columns):\n",
      "index     362237 non-null int64\n",
      "song      362235 non-null object\n",
      "year      362237 non-null int64\n",
      "artist    362237 non-null object\n",
      "genre     362237 non-null object\n",
      "lyrics    266557 non-null object\n",
      "dtypes: int64(2), object(4)\n",
      "memory usage: 16.6+ MB\n"
     ]
    }
   ],
   "source": [
    "lyrics.info()"
   ]
  },
  {
   "cell_type": "code",
   "execution_count": 5,
   "metadata": {},
   "outputs": [],
   "source": [
    "lyrics = lyrics.dropna()"
   ]
  },
  {
   "cell_type": "code",
   "execution_count": 6,
   "metadata": {},
   "outputs": [
    {
     "name": "stdout",
     "output_type": "stream",
     "text": [
      "<class 'pandas.core.frame.DataFrame'>\n",
      "Int64Index: 266556 entries, 0 to 362236\n",
      "Data columns (total 6 columns):\n",
      "index     266556 non-null int64\n",
      "song      266556 non-null object\n",
      "year      266556 non-null int64\n",
      "artist    266556 non-null object\n",
      "genre     266556 non-null object\n",
      "lyrics    266556 non-null object\n",
      "dtypes: int64(2), object(4)\n",
      "memory usage: 14.2+ MB\n"
     ]
    }
   ],
   "source": [
    "lyrics.info()"
   ]
  },
  {
   "cell_type": "code",
   "execution_count": 7,
   "metadata": {},
   "outputs": [
    {
     "name": "stdout",
     "output_type": "stream",
     "text": [
      "['Pop' 'Hip-Hop' 'Not Available' 'Rock' 'Metal' 'Other' 'Country' 'Jazz'\n",
      " 'Electronic' 'Folk' 'R&B' 'Indie']\n"
     ]
    }
   ],
   "source": [
    "genres = lyrics['genre'].unique()\n",
    "print(genres)"
   ]
  },
  {
   "cell_type": "code",
   "execution_count": 8,
   "metadata": {},
   "outputs": [
    {
     "name": "stdout",
     "output_type": "stream",
     "text": [
      "Rock             109235\n",
      "Pop               40466\n",
      "Hip-Hop           24850\n",
      "Not Available     23941\n",
      "Metal             23759\n",
      "Country           14387\n",
      "Jazz               7970\n",
      "Electronic         7966\n",
      "Other              5189\n",
      "R&B                3401\n",
      "Indie              3149\n",
      "Folk               2243\n",
      "Name: genre, dtype: int64\n"
     ]
    }
   ],
   "source": [
    "genres_count = lyrics.genre.value_counts()\n",
    "print(genres_count)"
   ]
  },
  {
   "cell_type": "code",
   "execution_count": 9,
   "metadata": {},
   "outputs": [
    {
     "data": {
      "image/png": "[encoded data removed]",
      "text/plain": [
       "<Figure size 720x360 with 1 Axes>"
      ]
     },
     "metadata": {
      "needs_background": "light"
     },
     "output_type": "display_data"
    }
   ],
   "source": [
    "plt.figure(figsize=(10,5))\n",
    "sns.countplot(x='genre', data=lyrics, palette='Greens_d')\n",
    "plt.xlabel('Genre')\n",
    "plt.ylabel('Count')\n",
    "plt.tight_layout()"
   ]
  },
  {
   "cell_type": "code",
   "execution_count": 10,
   "metadata": {},
   "outputs": [
    {
     "name": "stdout",
     "output_type": "stream",
     "text": [
      "dolly-parton         744\n",
      "elton-john           676\n",
      "chris-brown          628\n",
      "barbra-streisand     607\n",
      "bob-dylan            596\n",
      "bee-gees             591\n",
      "eddy-arnold          591\n",
      "eminem               578\n",
      "ella-fitzgerald      571\n",
      "david-bowie          570\n",
      "american-idol        568\n",
      "dean-martin          560\n",
      "b-b-king             543\n",
      "celine-dion          540\n",
      "elvis-costello       522\n",
      "bruce-springsteen    509\n",
      "beach-boys           495\n",
      "bill-anderson        466\n",
      "eric-clapton         461\n",
      "frank-zappa          457\n",
      "Name: artist, dtype: int64\n"
     ]
    }
   ],
   "source": [
    "artist_count = lyrics.artist.value_counts()\n",
    "print(artist_count.head(20))"
   ]
  },
  {
   "cell_type": "code",
   "execution_count": 11,
   "metadata": {},
   "outputs": [
    {
     "name": "stdout",
     "output_type": "stream",
     "text": [
      "     index                             song  year          artist  \\\n",
      "350    350              oooh-ooh-saint-nick  2009       dick-mace   \n",
      "385    385                  wer-liebe-sucht  2006     daliah-lavi   \n",
      "386    386                  es-geht-auch-so  2006     daliah-lavi   \n",
      "387    387     liebeslied-jener-sommernacht  2006     daliah-lavi   \n",
      "388    388           willst-du-mit-mir-gehn  2006     daliah-lavi   \n",
      "389    389        meine-art-liebe-zu-zeigen  2006     daliah-lavi   \n",
      "390    390                        jerusalem  2006     daliah-lavi   \n",
      "391    391                               oh  2006     daliah-lavi   \n",
      "392    392                        weisst-du  2006     daliah-lavi   \n",
      "393    393  wer-hat-mein-lied-so-zerstrthrt  2006     daliah-lavi   \n",
      "425    425                    vuelve-vuelve  2009  banda-carnaval   \n",
      "426    426           como-aquel-primer-amor  2009  banda-carnaval   \n",
      "427    427                    la-doble-cara  2013  banda-carnaval   \n",
      "428    428                         y-te-vas  2013  banda-carnaval   \n",
      "429    429              lo-que-pienso-de-ti  2012  banda-carnaval   \n",
      "433    433                a-ver-a-que-horas  2016  banda-carnaval   \n",
      "440    440   duo-desde-cuando-no-me-quieres  2016  banda-carnaval   \n",
      "449    449           te-cambio-el-domicilio  2015  banda-carnaval   \n",
      "451    451                           pideme  2008  banda-carnaval   \n",
      "709    709                if-theres-a-giant  2012    chloe-alesha   \n",
      "\n",
      "             genre                                             lyrics  \n",
      "350  Not Available  Santa Claus was scootin'across the roof tops '...  \n",
      "385  Not Available  Ist das so schwer\\nein kleines Lächeln\\nwenn d...  \n",
      "386  Not Available  Der Weg\\nden du und ich gegangen\\nführt mit ei...  \n",
      "387  Not Available  Rote Schatten warf das Feuer\\nhell wie Gold wa...  \n",
      "388  Not Available  Willst Du mit mir gehn,Wenn mein Weg in Dunkel...  \n",
      "389  Not Available  Meine Art Liebe zu zeigen\\ndas ist ganz einfac...  \n",
      "390  Not Available  Where the mothers of sonsnever cease their wee...  \n",
      "391  Not Available  Montag Dienstag Mittwoch\\nDonnerstag Freitag S...  \n",
      "392  Not Available  Weit du? Weit du\\nwas du für mich bist?\\nWeit ...  \n",
      "393  Not Available  Wer hat mein Lied so zerstört\\nMa\\nWer hat mei...  \n",
      "425  Not Available  *Ay llevo esperando dos semanas tu llamada\\n*s...  \n",
      "426  Not Available  Solamente al discutir se nos van los dias\\nQue...  \n",
      "427  Not Available  Ahora me dices que te arrepientes\\nTu de haber...  \n",
      "428  Not Available  Hoy, me parto en dos\\nDÃ³nde quedaron aquellas...  \n",
      "429  Not Available  Que bonito es saber que me quieres tanto como ...  \n",
      "433  Not Available  A Ver A Que Horas se te antoja darte cuenta\\nQ...  \n",
      "440  Not Available  Amor\\nDesde cuÃ¡ndo no me quieres\\nHace cuÃ¡nt...  \n",
      "449  Not Available  Ya estuvo de pasÃ¡rmela pensado\\na que saben t...  \n",
      "451  Not Available  Pideme si quieres que no me equivoque\\npideme ...  \n",
      "709  Not Available  If theres a giant,\\nAnd he hits the roof,\\ntel...  \n"
     ]
    }
   ],
   "source": [
    "not_available = lyrics[lyrics['genre'] == 'Not Available']\n",
    "print(not_available.head(20))"
   ]
  },
  {
   "cell_type": "code",
   "execution_count": 12,
   "metadata": {},
   "outputs": [
    {
     "name": "stdout",
     "output_type": "stream",
     "text": [
      "         index                             song  year            artist  \\\n",
      "155200  155200                         monsters  2013              0510   \n",
      "210418  210418                         monsters  2013          0510-ent   \n",
      "198072  198072                            panic  2016     1-girl-nation   \n",
      "198081  198081                    1-girl-nation  2014     1-girl-nation   \n",
      "198079  198079                        try-cover  2014     1-girl-nation   \n",
      "198078  198078                         nofilter  2016     1-girl-nation   \n",
      "198077  198077                       impossible  2016     1-girl-nation   \n",
      "198071  198071                while-we-re-young  2013     1-girl-nation   \n",
      "198075  198075                         get-hype  2016     1-girl-nation   \n",
      "198074  198074                 guard-your-heart  2016     1-girl-nation   \n",
      "198073  198073                           cinema  2016     1-girl-nation   \n",
      "198076  198076                           haters  2016     1-girl-nation   \n",
      "6189      6189                    lyrically-ill  2012        1-hundredd   \n",
      "325905  325905                     future-sound  2006       100-percent   \n",
      "76416    76416                        sun-bathe  2012            10ille   \n",
      "76415    76415                     special-erbs  2012            10ille   \n",
      "76417    76417                        inaudible  2012            10ille   \n",
      "240670  240670                        asparagus  2006  1140-mississippi   \n",
      "240671  240671  girl-with-the-clandestine-heart  2006  1140-mississippi   \n",
      "240673  240673  lullaby-for-a-sleepy-girlfriend  2006  1140-mississippi   \n",
      "\n",
      "                genre                                             lyrics  \n",
      "155200  Not Available  Bradley\\nToo much energy, no time for play\\nI ...  \n",
      "210418  Not Available  Bradley\\nToo much energy, no time for play\\nI ...  \n",
      "198072  Not Available  Panic\\nPanic\\nPanic\\nIf I'm really honest, I'd...  \n",
      "198081  Not Available  Hey, there's a girl sittin' all alone\\nHeartbr...  \n",
      "198079  Not Available  Put your make-up on\\nGet your nails done\\nCurl...  \n",
      "198078  Not Available  This, this is me, this is me\\nThis is, this is...  \n",
      "198077  Not Available  I guess I've always been a dreamer\\nBut today ...  \n",
      "198071  Not Available  We've all heard people talking about all the t...  \n",
      "198075  Not Available  Go crazy\\nCrazy\\nCrazy\\nCrazy is my middle nam...  \n",
      "198074  Not Available  In the middle of this crazy, messed up world w...  \n",
      "198073  Not Available  Girls night out at the movies\\nGrab some popco...  \n",
      "198076  Not Available  It's been three hours\\nStaring at the screen\\n...  \n",
      "6189    Not Available  [Pierrick talking]\\nIts Pierr, can someone ple...  \n",
      "325905  Not Available  Control is the name of the game\\nYou really ca...  \n",
      "76416   Not Available  I went outside (went outside)\\nAnd the sun mad...  \n",
      "76415   Not Available  Ay, ah\\nyeah\\nHe said he like me, boy\\nMy ener...  \n",
      "76417   Not Available  Baby, don't make a fool of me, no\\nThey all sa...  \n",
      "240670  Not Available  You smell like asparagus\\nBut we'll leave that...  \n",
      "240671  Not Available  I used to love a girl caled Mary-Jane\\nI used ...  \n",
      "240673  Not Available  Hush now my baby\\nHush now my love\\nThe angels...  \n"
     ]
    }
   ],
   "source": [
    "print(not_available.sort_values(by='artist').head(20))"
   ]
  },
  {
   "cell_type": "code",
   "execution_count": 13,
   "metadata": {},
   "outputs": [],
   "source": [
    "lyricsep = lyrics['lyrics']"
   ]
  },
  {
   "cell_type": "code",
   "execution_count": 14,
   "metadata": {},
   "outputs": [
    {
     "data": {
      "text/plain": [
       "pandas.core.series.Series"
      ]
     },
     "execution_count": 14,
     "metadata": {},
     "output_type": "execute_result"
    }
   ],
   "source": [
    "type(lyricsep)"
   ]
  },
  {
   "cell_type": "code",
   "execution_count": 15,
   "metadata": {},
   "outputs": [],
   "source": [
    "#lyricsep=pd.DataFrame(lyricsep)"
   ]
  },
  {
   "cell_type": "code",
   "execution_count": 16,
   "metadata": {},
   "outputs": [
    {
     "data": {
      "text/plain": [
       "\"Oh baby, how you doing?\\nYou know I'm gonna cut right to the chase\\nSome women were made but me, myself\\nI like to think that I was created for a special purpose\\nYou know, what's more special than you? You feel me\\nIt's on baby, let's get lost\\nYou don't need to call into work 'cause you're the boss\\nFor real, want you to show me how you feel\\nI consider myself lucky, that's a big deal\\nWhy? Well, you got the key to my heart\\nBut you ain't gonna need it, I'd rather you open up my body\\nAnd show me secrets, you didn't know was inside\\nNo need for me to lie\\nIt's too big, it's too wide\\nIt's too strong, it won't fit\\nIt's too much, it's too tough\\nHe talk like this 'cause he can back it up\\nHe got a big ego, such a huge ego\\nI love his big ego, it's too much\\nHe walk like this 'cause he can back it up\\nUsually I'm humble, right now I don't choose\\nYou can leave with me or you could have the blues\\nSome call it arrogant, I call it confident\\nYou decide when you find on what I'm working with\\nDamn I know I'm killing you with them legs\\nBetter yet them thighs\\nMatter a fact it's my smile or maybe my eyes\\nBoy you a site to see, kind of something like me\\nIt's too big, it's too wide\\nIt's too strong, it won't fit\\nIt's too much, it's too tough\\nI talk like this 'cause I can back it up\\nI got a big ego, such a huge ego\\nBut he love my big ego, it's too much\\nI walk like this 'cause I can back it up\\nI, I walk like this 'cause I can back it up\\nI, I talk like this 'cause I can back it up\\nI, I can back it up, I can back it up\\nI walk like this 'cause I can back it up\\nIt's too big, it's too wide\\nIt's too strong, it won't fit\\nIt's too much, it's too tough\\nHe talk like this 'cause he can back it up\\nHe got a big ego, such a huge ego, such a huge ego\\nI love his big ego, it's too much\\nHe walk like this 'cause he can back it up\\nEgo so big, you must admit\\nI got every reason to feel like I'm that bitch\\nEgo so strong, if you ain't know\\nI don't need no beat, I can sing it with piano\""
      ]
     },
     "execution_count": 16,
     "metadata": {},
     "output_type": "execute_result"
    }
   ],
   "source": [
    "lyricsep[0]"
   ]
  },
  {
   "cell_type": "code",
   "execution_count": 17,
   "metadata": {},
   "outputs": [],
   "source": [
    "replace = [r'\\p{P}',r'Verse',r'verse',r'VERSE',r'chorus',r'Chorus',r'CHORUS',r'Instrumental',r'instrumental',r'INSTRUMENTAL',r'x\\d',r'\\dx',r'X\\d',r'\\dX',r'Bridge',r'Hook',r'HOOK',r'Pre',r'Intro',r'intro',r'INTRO',r'outro',r'Outro',r'OUTRO',r'\\d',r'[^A-Za-z0-9 ]+']"
   ]
  },
  {
   "cell_type": "code",
   "execution_count": 18,
   "metadata": {},
   "outputs": [],
   "source": [
    "import regex as re"
   ]
  },
  {
   "cell_type": "code",
   "execution_count": 19,
   "metadata": {},
   "outputs": [
    {
     "data": {
      "text/plain": [
       "'*Ay llevo esperando dos semanas tu llamada\\n*sera que ya te covencieron que olvidaras aquellas noches, aquellos suenos\\n*cuando estavas enamorada\\nhaz olvidado las promesas que me hiciste\\n*cuando despues de un largo beso me dijiste\\n*no habra destino que nos separe\\n*no habra razon para olvidar te\\ny lo unico que echo es adorarte\\n*me estas matando todo este silencio\\n*y lo adejado todo por amarte,y ahora me estoy muriendo\\n*pero no me arrepiento de quererte\\n*tengo la fe que vienes a buscarme\\n*Que la semilla que sembre en tu mente no podra marchitarse\\n*Y ahora que te amo demasiado, no se de tu vida ya me estoy volviendo loco\\n*Casi ya no duermo de tristeza ya no como\\n*Por que estoy sufriendo justo cuando mas te amo\\n*No le creas a nadie cuando digan que estoy loco\\n*Que ando deshojando rosas donde quiera llego\\n*Di que estas segura que te amo y que te adoro\\n*Y si pierdo la mente es por muncho que te pienso\\n*me hacen muncha falta tu y tus locuras\\n*como el sol a la llanura\\n*me hachen muncha falta tu y tu risa\\n*como el verano a la brisa\\n*vuelve vuelve,vuelve que te necesito\\n*vuelve,vuelve que me estoy muriendo\\n*por favor vuelve que te necesito\\n*vuelve vuelve que me estoy muriendo\\n(MUSICA)\\nno puedo ver los colores a la vida\\n*todo es obscuro vivo envuelto en las neblinas\\n*tu eres el verde de mi esperanza\\n*tu ausencia me ovscurece el alma\\n*si no ases algo para que tu y yo vovlamos\\n*que ago con este amor que me quema las manos\\n*que aras con migo con mi existencia\\n*matame con tu indiferencia\\n*presientio que algo triste te a pasado\\n*porque capaz si no vas al olvidarme\\n*estoy seguro te estan obligando\\n*a que dejes de amar me\\n*pero no lograran que tu me olvides por que en mi corazon tu lo conoces, sabes muy bien que nunca\\n*voy a erite, si amo todas las letras de tu nombre\\n*Me asen muncha falta tu y tus locuras\\n*como el sol a la llanura\\n*me hachen muncha falta tu y tu risa\\n*como el verano a la brisa\\n*vuelve vuelve,vuelve que te necesito\\n*vuelve vuelve que me estoy muriendo\\n*por favor vuelve que te necesito\\n*vuelve vuelve que me estoy muriendo\\n(repeat)\\n*vuelve vuelve,vuelve que te necesito\\n*vuelve vuelve que me estoy muriendo\\n*por favor vuelve que te necesito\\n*vuelve vuelve que me estoy muriendo'"
      ]
     },
     "execution_count": 19,
     "metadata": {},
     "output_type": "execute_result"
    }
   ],
   "source": [
    "lyricsep[425]"
   ]
  },
  {
   "cell_type": "code",
   "execution_count": 20,
   "metadata": {},
   "outputs": [
    {
     "name": "stdout",
     "output_type": "stream",
     "text": [
      "Oh baby, how you doing? You know I'm gonna cut right to the chase Some women were made but me, myself I like to think that I was created for a special purpose You know, what's more special than you? You feel me It's on baby, let's get lost You don't need to call into work 'cause you're the boss For real, want you to show me how you feel I consider myself lucky, that's a big deal Why? Well, you got the key to my heart But you ain't gonna need it, I'd rather you open up my body And show me secrets, you didn't know was inside No need for me to lie It's too big, it's too wide It's too strong, it won't fit It's too much, it's too tough He talk like this 'cause he can back it up He got a big ego, such a huge ego I love his big ego, it's too much He walk like this 'cause he can back it up Usually I'm humble, right now I don't choose You can leave with me or you could have the blues Some call it arrogant, I call it confident You decide when you find on what I'm working with Damn I know I'm killing you with them legs Better yet them thighs Matter a fact it's my smile or maybe my eyes Boy you a site to see, kind of something like me It's too big, it's too wide It's too strong, it won't fit It's too much, it's too tough I talk like this 'cause I can back it up I got a big ego, such a huge ego But he love my big ego, it's too much I walk like this 'cause I can back it up I, I walk like this 'cause I can back it up I, I talk like this 'cause I can back it up I, I can back it up, I can back it up I walk like this 'cause I can back it up It's too big, it's too wide It's too strong, it won't fit It's too much, it's too tough He talk like this 'cause he can back it up He got a big ego, such a huge ego, such a huge ego I love his big ego, it's too much He walk like this 'cause he can back it up Ego so big, you must admit I got every reason to feel like I'm that bitch Ego so strong, if you ain't know I don't need no beat, I can sing it with piano\n"
     ]
    }
   ],
   "source": [
    "lyricsep = [re.sub(r'\\n',' ', i) for i in lyricsep]\n",
    "lyricsep = pd.Series(lyricsep)\n",
    "print(lyricsep[0])"
   ]
  },
  {
   "cell_type": "code",
   "execution_count": 21,
   "metadata": {},
   "outputs": [
    {
     "data": {
      "text/plain": [
       "'Oh baby how you doing You know Im gonna cut right to the chase Some women were made but me myself I like to think that I was created for a special purpose You know whats more special than you You feel me Its on baby lets get lost You dont need to call into work cause youre the boss For real want you to show me how you feel I consider myself lucky thats a big deal Why Well you got the key to my heart But you aint gonna need it Id rather you open up my body And show me secrets you didnt know was inside No need for me to lie Its too big its too wide Its too strong it wont fit Its too much its too tough He talk like this cause he can back it up He got a big ego such a huge ego I love his big ego its too much He walk like this cause he can back it up Usually Im humble right now I dont choose You can leave with me or you could have the blues Some call it arrogant I call it confident You decide when you find on what Im working with Damn I know Im killing you with them legs Better yet them thighs Matter a fact its my smile or maybe my eyes Boy you a site to see kind of something like me Its too big its too wide Its too strong it wont fit Its too much its too tough I talk like this cause I can back it up I got a big ego such a huge ego But he love my big ego its too much I walk like this cause I can back it up I I walk like this cause I can back it up I I talk like this cause I can back it up I I can back it up I can back it up I walk like this cause I can back it up Its too big its too wide Its too strong it wont fit Its too much its too tough He talk like this cause he can back it up He got a big ego such a huge ego such a huge ego I love his big ego its too much He walk like this cause he can back it up Ego so big you must admit I got every reason to feel like Im that bitch Ego so strong if you aint know I dont need no beat I can sing it with piano'"
      ]
     },
     "execution_count": 21,
     "metadata": {},
     "output_type": "execute_result"
    }
   ],
   "source": [
    "lyricsep = [re.sub(j, '',i) for j in replace for i in lyricsep]\n",
    "lyricsep = pd.Series(lyricsep)\n",
    "lyricsep[0]"
   ]
  },
  {
   "cell_type": "code",
   "execution_count": 22,
   "metadata": {},
   "outputs": [
    {
     "data": {
      "text/plain": [
       "'Ring the alarm I been through this too long But Ill be damned if I see another chick on your arm Wont you ring the alarm I been through this too long But Ill be damned if I see another chick on your arm She gon be rockin chinchilla coats if I let you go Hit in the house off the coast if I let you go She gon take everything I own if I let you go I cant let you go damn if I let you go She gon rock them VVS stones if I let you go In the Bach or the Rolls if I let you go She gon profit everything I taught if I let you go I cant let you go damn if I let you go Tell me how should I feel when I know what I know And my female intuition tellin me you a dog People told me bout the flames I couldnt see through the smoke When I need answers accusations what you mean you gon choke You cant stay you gotta go Aint no other chick spendin your dough This is taking a toll the way the story unfolds Not the picture perfect movie everyone wouldve saw She gon be rockin chinchilla coats if I let you go Hit in the house off the coast if I let you go She gon take everything I own if I let you go I cant let you go damn if I let you go She gon rock them VVS stones if I let you go In the Bach or the Rolls if I let you go She gon profit everything I taught if I let you go I cant let you go damn if I let you go Ring the alarm I been through this too long But Ill be damned if I see another chick on your arm Wont you ring the alarm I been through this too long But Ill be damned if I see another chick on your arm Tell me how should I feel when you made me belong And the thought of you just touchin her is what I hate most I dont want you but I want it and I cant let it go To know you give it to her like you gave it to me come on Hes so arrogant and bold But she gon love that shit I know I done put in a call time to ring the alarm Cause you aint never seen a fire like the one Ima cause She gon be rockin chinchilla coats if I let you go Hit in the house off the coast if I let you go She gon take everything I own if I let you go I cant let you go damn if I let you go She gon rock them VVS stones if I let you go In the Bach or the Rolls if I let you go She gon profit everything I taught if I let you go I cant let you go damn if I let you go Ooh how can you look at me And not see all the things that I kept only just for you Ooh why would you risk it babe Is that the price that I pay ooh But this is my show and I wont let you go All its been paid for and its mine How could you look at me And not see all the things She gon be rockin chinchilla coats if I let you go Hit in the house off the coast if I let you go She gon take everything I own if I let you go I cant let you go damn if I let you go She gon rock them VVS stones if I let you go In the Bach or the Rolls if I let you go She gon profit everything I taught if I let you go I cant let you go damn if I let you go'"
      ]
     },
     "execution_count": 22,
     "metadata": {},
     "output_type": "execute_result"
    }
   ],
   "source": [
    "lyricsep[100]"
   ]
  },
  {
   "cell_type": "code",
   "execution_count": 23,
   "metadata": {},
   "outputs": [
    {
     "data": {
      "text/plain": [
       "0    Oh baby how you doing You know Im gonna cut ri...\n",
       "1    playin everything so easy its like you seem so...\n",
       "2    If you search For tenderness It isnt hard to f...\n",
       "3    Oh oh oh I oh oh oh I Verse 1 If I wrote a boo...\n",
       "4    Party the people the people the party its popp...\n",
       "dtype: object"
      ]
     },
     "execution_count": 23,
     "metadata": {},
     "output_type": "execute_result"
    }
   ],
   "source": [
    "lyricsep.head()"
   ]
  },
  {
   "cell_type": "code",
   "execution_count": 49,
   "metadata": {},
   "outputs": [],
   "source": [
    "def lyricstrip(x):\n",
    "    for j in replace:\n",
    "        for i in x:\n",
    "            re.sub(j, '',i)\n",
    "    return       "
   ]
  },
  {
   "cell_type": "code",
   "execution_count": 54,
   "metadata": {},
   "outputs": [
    {
     "name": "stdout",
     "output_type": "stream",
     "text": [
      "Empty DataFrame\n",
      "Columns: []\n",
      "Index: []\n"
     ]
    }
   ],
   "source": [
    "lyricstripped = lyricstrip(lyricsep)\n",
    "lyricstripped = pd.DataFrame(lyricstripped)\n",
    "print(lyricstripped.head())"
   ]
  },
  {
   "cell_type": "code",
   "execution_count": 53,
   "metadata": {},
   "outputs": [
    {
     "ename": "IndexError",
     "evalue": "index out of bounds",
     "output_type": "error",
     "traceback": [
      "\u001b[0;31m---------------------------------------------------------------------------\u001b[0m",
      "\u001b[0;31mKeyError\u001b[0m                                  Traceback (most recent call last)",
      "\u001b[0;32m~/anaconda3/lib/python3.7/site-packages/pandas/core/indexes/base.py\u001b[0m in \u001b[0;36mget_value\u001b[0;34m(self, series, key)\u001b[0m\n\u001b[1;32m   3117\u001b[0m             return self._engine.get_value(s, k,\n\u001b[0;32m-> 3118\u001b[0;31m                                           tz=getattr(series.dtype, 'tz', None))\n\u001b[0m\u001b[1;32m   3119\u001b[0m         \u001b[0;32mexcept\u001b[0m \u001b[0mKeyError\u001b[0m \u001b[0;32mas\u001b[0m \u001b[0me1\u001b[0m\u001b[0;34m:\u001b[0m\u001b[0;34m\u001b[0m\u001b[0;34m\u001b[0m\u001b[0m\n",
      "\u001b[0;32mpandas/_libs/index.pyx\u001b[0m in \u001b[0;36mpandas._libs.index.IndexEngine.get_value\u001b[0;34m()\u001b[0m\n",
      "\u001b[0;32mpandas/_libs/index.pyx\u001b[0m in \u001b[0;36mpandas._libs.index.IndexEngine.get_value\u001b[0;34m()\u001b[0m\n",
      "\u001b[0;32mpandas/_libs/index.pyx\u001b[0m in \u001b[0;36mpandas._libs.index.IndexEngine.get_loc\u001b[0;34m()\u001b[0m\n",
      "\u001b[0;32mpandas/_libs/hashtable_class_helper.pxi\u001b[0m in \u001b[0;36mpandas._libs.hashtable.PyObjectHashTable.get_item\u001b[0;34m()\u001b[0m\n",
      "\u001b[0;32mpandas/_libs/hashtable_class_helper.pxi\u001b[0m in \u001b[0;36mpandas._libs.hashtable.PyObjectHashTable.get_item\u001b[0;34m()\u001b[0m\n",
      "\u001b[0;31mKeyError\u001b[0m: 0",
      "\nDuring handling of the above exception, another exception occurred:\n",
      "\u001b[0;31mIndexError\u001b[0m                                Traceback (most recent call last)",
      "\u001b[0;32m<ipython-input-53-0f97f8fa6d6a>\u001b[0m in \u001b[0;36m<module>\u001b[0;34m\u001b[0m\n\u001b[0;32m----> 1\u001b[0;31m \u001b[0mlyricstripped\u001b[0m\u001b[0;34m[\u001b[0m\u001b[0;36m0\u001b[0m\u001b[0;34m]\u001b[0m\u001b[0;34m\u001b[0m\u001b[0;34m\u001b[0m\u001b[0m\n\u001b[0m",
      "\u001b[0;32m~/anaconda3/lib/python3.7/site-packages/pandas/core/series.py\u001b[0m in \u001b[0;36m__getitem__\u001b[0;34m(self, key)\u001b[0m\n\u001b[1;32m    765\u001b[0m         \u001b[0mkey\u001b[0m \u001b[0;34m=\u001b[0m \u001b[0mcom\u001b[0m\u001b[0;34m.\u001b[0m\u001b[0m_apply_if_callable\u001b[0m\u001b[0;34m(\u001b[0m\u001b[0mkey\u001b[0m\u001b[0;34m,\u001b[0m \u001b[0mself\u001b[0m\u001b[0;34m)\u001b[0m\u001b[0;34m\u001b[0m\u001b[0;34m\u001b[0m\u001b[0m\n\u001b[1;32m    766\u001b[0m         \u001b[0;32mtry\u001b[0m\u001b[0;34m:\u001b[0m\u001b[0;34m\u001b[0m\u001b[0;34m\u001b[0m\u001b[0m\n\u001b[0;32m--> 767\u001b[0;31m             \u001b[0mresult\u001b[0m \u001b[0;34m=\u001b[0m \u001b[0mself\u001b[0m\u001b[0;34m.\u001b[0m\u001b[0mindex\u001b[0m\u001b[0;34m.\u001b[0m\u001b[0mget_value\u001b[0m\u001b[0;34m(\u001b[0m\u001b[0mself\u001b[0m\u001b[0;34m,\u001b[0m \u001b[0mkey\u001b[0m\u001b[0;34m)\u001b[0m\u001b[0;34m\u001b[0m\u001b[0;34m\u001b[0m\u001b[0m\n\u001b[0m\u001b[1;32m    768\u001b[0m \u001b[0;34m\u001b[0m\u001b[0m\n\u001b[1;32m    769\u001b[0m             \u001b[0;32mif\u001b[0m \u001b[0;32mnot\u001b[0m \u001b[0mis_scalar\u001b[0m\u001b[0;34m(\u001b[0m\u001b[0mresult\u001b[0m\u001b[0;34m)\u001b[0m\u001b[0;34m:\u001b[0m\u001b[0;34m\u001b[0m\u001b[0;34m\u001b[0m\u001b[0m\n",
      "\u001b[0;32m~/anaconda3/lib/python3.7/site-packages/pandas/core/indexes/base.py\u001b[0m in \u001b[0;36mget_value\u001b[0;34m(self, series, key)\u001b[0m\n\u001b[1;32m   3122\u001b[0m \u001b[0;34m\u001b[0m\u001b[0m\n\u001b[1;32m   3123\u001b[0m             \u001b[0;32mtry\u001b[0m\u001b[0;34m:\u001b[0m\u001b[0;34m\u001b[0m\u001b[0;34m\u001b[0m\u001b[0m\n\u001b[0;32m-> 3124\u001b[0;31m                 \u001b[0;32mreturn\u001b[0m \u001b[0mlibindex\u001b[0m\u001b[0;34m.\u001b[0m\u001b[0mget_value_box\u001b[0m\u001b[0;34m(\u001b[0m\u001b[0ms\u001b[0m\u001b[0;34m,\u001b[0m \u001b[0mkey\u001b[0m\u001b[0;34m)\u001b[0m\u001b[0;34m\u001b[0m\u001b[0;34m\u001b[0m\u001b[0m\n\u001b[0m\u001b[1;32m   3125\u001b[0m             \u001b[0;32mexcept\u001b[0m \u001b[0mIndexError\u001b[0m\u001b[0;34m:\u001b[0m\u001b[0;34m\u001b[0m\u001b[0;34m\u001b[0m\u001b[0m\n\u001b[1;32m   3126\u001b[0m                 \u001b[0;32mraise\u001b[0m\u001b[0;34m\u001b[0m\u001b[0;34m\u001b[0m\u001b[0m\n",
      "\u001b[0;32mpandas/_libs/index.pyx\u001b[0m in \u001b[0;36mpandas._libs.index.get_value_box\u001b[0;34m()\u001b[0m\n",
      "\u001b[0;32mpandas/_libs/index.pyx\u001b[0m in \u001b[0;36mpandas._libs.index.get_value_box\u001b[0;34m()\u001b[0m\n",
      "\u001b[0;31mIndexError\u001b[0m: index out of bounds"
     ]
    }
   ],
   "source": [
    "lyricstripped[0]"
   ]
  },
  {
   "cell_type": "code",
   "execution_count": null,
   "metadata": {},
   "outputs": [],
   "source": []
  }
 ],
 "metadata": {
  "kernelspec": {
   "display_name": "Python 3",
   "language": "python",
   "name": "python3"
  },
  "language_info": {
   "codemirror_mode": {
    "name": "ipython",
    "version": 3
   },
   "file_extension": ".py",
   "mimetype": "text/x-python",
   "name": "python",
   "nbconvert_exporter": "python",
   "pygments_lexer": "ipython3",
   "version": "3.7.1"
  }
 },
 "nbformat": 4,
 "nbformat_minor": 2
}
