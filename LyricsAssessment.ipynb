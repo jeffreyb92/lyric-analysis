{
 "cells": [
  {
   "cell_type": "markdown",
   "metadata": {},
   "source": [
    "# Goals for this Project\n",
    "\n",
    "- [x] Import the data\n",
    "- [x] Drop the Null values\n",
    "- [x] Drop the index column\n",
    "- [x] Check out the count and types for genres\n",
    "- [x] Check out value counts per artists\n",
    "- [x] Do a groupby per artist\n",
    "    - [x] Figure out way to loop through songs for each artist\n",
    "- [x] Integrate fuzzywuzzy to delete duplicate songs based on song name matching of a certain percentage to avoid bias\n",
    "    - [x] Write loop that enables to compare two songs and if the value is higher than a certain percentage, discard that one. If it's not, then keep it and move along.\n",
    "- [x] Run data cleaning measures, cleaning lyrics of stop words common to music (chorus, intro, outro, bridge, etc.)\n",
    "- [x] Do a train, test, split on the data for random sample and test data to work with\n",
    "- [x] Use Scikit and check out how to run Machine Learning models on train and test data\n",
    "- [x] Check out percentages\n",
    "- [ ] Tweak ML Models based on outcome?\n",
    "- [x] Report findings"
   ]
  },
  {
   "cell_type": "markdown",
   "metadata": {},
   "source": [
    "# Data Verification"
   ]
  },
  {
   "cell_type": "code",
   "execution_count": 1,
   "metadata": {},
   "outputs": [],
   "source": [
    "#importing necessary modules\n",
    "import pandas as pd\n",
    "import numpy as np\n",
    "from sklearn import svm\n",
    "from sklearn.model_selection import train_test_split \n",
    "import matplotlib.pyplot as plt\n",
    "import seaborn as sns\n",
    "%matplotlib inline\n",
    "import regex as re\n",
    "from fuzzywuzzy import fuzz \n",
    "from fuzzywuzzy import process"
   ]
  },
  {
   "cell_type": "code",
   "execution_count": 2,
   "metadata": {},
   "outputs": [],
   "source": [
    "#reading in the lyrics dataset\n",
    "lyrics = pd.read_csv('lyrics.csv')"
   ]
  },
  {
   "cell_type": "code",
   "execution_count": 3,
   "metadata": {},
   "outputs": [
    {
     "data": {
      "text/html": [
       "<div>\n",
       "<style scoped>\n",
       "    .dataframe tbody tr th:only-of-type {\n",
       "        vertical-align: middle;\n",
       "    }\n",
       "\n",
       "    .dataframe tbody tr th {\n",
       "        vertical-align: top;\n",
       "    }\n",
       "\n",
       "    .dataframe thead th {\n",
       "        text-align: right;\n",
       "    }\n",
       "</style>\n",
       "<table border=\"1\" class=\"dataframe\">\n",
       "  <thead>\n",
       "    <tr style=\"text-align: right;\">\n",
       "      <th></th>\n",
       "      <th>index</th>\n",
       "      <th>song</th>\n",
       "      <th>year</th>\n",
       "      <th>artist</th>\n",
       "      <th>genre</th>\n",
       "      <th>lyrics</th>\n",
       "    </tr>\n",
       "  </thead>\n",
       "  <tbody>\n",
       "    <tr>\n",
       "      <th>0</th>\n",
       "      <td>0</td>\n",
       "      <td>ego-remix</td>\n",
       "      <td>2009</td>\n",
       "      <td>beyonce-knowles</td>\n",
       "      <td>Pop</td>\n",
       "      <td>Oh baby, how you doing?\\nYou know I'm gonna cu...</td>\n",
       "    </tr>\n",
       "    <tr>\n",
       "      <th>1</th>\n",
       "      <td>1</td>\n",
       "      <td>then-tell-me</td>\n",
       "      <td>2009</td>\n",
       "      <td>beyonce-knowles</td>\n",
       "      <td>Pop</td>\n",
       "      <td>playin' everything so easy,\\nit's like you see...</td>\n",
       "    </tr>\n",
       "    <tr>\n",
       "      <th>2</th>\n",
       "      <td>2</td>\n",
       "      <td>honesty</td>\n",
       "      <td>2009</td>\n",
       "      <td>beyonce-knowles</td>\n",
       "      <td>Pop</td>\n",
       "      <td>If you search\\nFor tenderness\\nIt isn't hard t...</td>\n",
       "    </tr>\n",
       "    <tr>\n",
       "      <th>3</th>\n",
       "      <td>3</td>\n",
       "      <td>you-are-my-rock</td>\n",
       "      <td>2009</td>\n",
       "      <td>beyonce-knowles</td>\n",
       "      <td>Pop</td>\n",
       "      <td>Oh oh oh I, oh oh oh I\\n[Verse 1:]\\nIf I wrote...</td>\n",
       "    </tr>\n",
       "    <tr>\n",
       "      <th>4</th>\n",
       "      <td>4</td>\n",
       "      <td>black-culture</td>\n",
       "      <td>2009</td>\n",
       "      <td>beyonce-knowles</td>\n",
       "      <td>Pop</td>\n",
       "      <td>Party the people, the people the party it's po...</td>\n",
       "    </tr>\n",
       "  </tbody>\n",
       "</table>\n",
       "</div>"
      ],
      "text/plain": [
       "   index             song  year           artist genre  \\\n",
       "0      0        ego-remix  2009  beyonce-knowles   Pop   \n",
       "1      1     then-tell-me  2009  beyonce-knowles   Pop   \n",
       "2      2          honesty  2009  beyonce-knowles   Pop   \n",
       "3      3  you-are-my-rock  2009  beyonce-knowles   Pop   \n",
       "4      4    black-culture  2009  beyonce-knowles   Pop   \n",
       "\n",
       "                                              lyrics  \n",
       "0  Oh baby, how you doing?\\nYou know I'm gonna cu...  \n",
       "1  playin' everything so easy,\\nit's like you see...  \n",
       "2  If you search\\nFor tenderness\\nIt isn't hard t...  \n",
       "3  Oh oh oh I, oh oh oh I\\n[Verse 1:]\\nIf I wrote...  \n",
       "4  Party the people, the people the party it's po...  "
      ]
     },
     "execution_count": 3,
     "metadata": {},
     "output_type": "execute_result"
    }
   ],
   "source": [
    "#checking out the first few lines\n",
    "lyrics.head()"
   ]
  },
  {
   "cell_type": "code",
   "execution_count": 4,
   "metadata": {},
   "outputs": [
    {
     "name": "stdout",
     "output_type": "stream",
     "text": [
      "<class 'pandas.core.frame.DataFrame'>\n",
      "RangeIndex: 362237 entries, 0 to 362236\n",
      "Data columns (total 6 columns):\n",
      "index     362237 non-null int64\n",
      "song      362235 non-null object\n",
      "year      362237 non-null int64\n",
      "artist    362237 non-null object\n",
      "genre     362237 non-null object\n",
      "lyrics    266557 non-null object\n",
      "dtypes: int64(2), object(4)\n",
      "memory usage: 16.6+ MB\n"
     ]
    }
   ],
   "source": [
    "#checking if there is anything out of the ordinary in terms of consistency\n",
    "#we see that there are almost 100,000 songs that do not have lyrics, so we can get rid of those\n",
    "lyrics.info()"
   ]
  },
  {
   "cell_type": "code",
   "execution_count": 5,
   "metadata": {},
   "outputs": [],
   "source": [
    "#dropping any rows that have no lyrics\n",
    "lyrics = lyrics.dropna()"
   ]
  },
  {
   "cell_type": "code",
   "execution_count": 6,
   "metadata": {},
   "outputs": [
    {
     "name": "stdout",
     "output_type": "stream",
     "text": [
      "<class 'pandas.core.frame.DataFrame'>\n",
      "Int64Index: 266556 entries, 0 to 362236\n",
      "Data columns (total 6 columns):\n",
      "index     266556 non-null int64\n",
      "song      266556 non-null object\n",
      "year      266556 non-null int64\n",
      "artist    266556 non-null object\n",
      "genre     266556 non-null object\n",
      "lyrics    266556 non-null object\n",
      "dtypes: int64(2), object(4)\n",
      "memory usage: 14.2+ MB\n"
     ]
    }
   ],
   "source": [
    "#checking to make sure that all the empty rows were dropped and it looks like they were\n",
    "lyrics.info()"
   ]
  },
  {
   "cell_type": "code",
   "execution_count": 7,
   "metadata": {},
   "outputs": [],
   "source": [
    "# lyrics = lyrics.drop(columns=['index'])"
   ]
  },
  {
   "cell_type": "code",
   "execution_count": 8,
   "metadata": {},
   "outputs": [
    {
     "data": {
      "text/plain": [
       "count    266556.000000\n",
       "mean       2007.654909\n",
       "std          10.115249\n",
       "min          67.000000\n",
       "25%        2006.000000\n",
       "50%        2007.000000\n",
       "75%        2010.000000\n",
       "max        2016.000000\n",
       "Name: year, dtype: float64"
      ]
     },
     "execution_count": 8,
     "metadata": {},
     "output_type": "execute_result"
    }
   ],
   "source": [
    "#using to get an idea of range of years we have in this data set and it seems to be mostly from 2000's\n",
    "lyrics.year.describe()"
   ]
  },
  {
   "cell_type": "code",
   "execution_count": 9,
   "metadata": {},
   "outputs": [
    {
     "name": "stdout",
     "output_type": "stream",
     "text": [
      "['Pop' 'Hip-Hop' 'Not Available' 'Rock' 'Metal' 'Other' 'Country' 'Jazz'\n",
      " 'Electronic' 'Folk' 'R&B' 'Indie']\n"
     ]
    }
   ],
   "source": [
    "#checking all the unique genres in the dataset. It seem there are about 11 and one Not Available\n",
    "genres = lyrics['genre'].unique()\n",
    "print(genres)"
   ]
  },
  {
   "cell_type": "code",
   "execution_count": 10,
   "metadata": {},
   "outputs": [
    {
     "name": "stdout",
     "output_type": "stream",
     "text": [
      "Rock             109235\n",
      "Pop               40466\n",
      "Hip-Hop           24850\n",
      "Not Available     23941\n",
      "Metal             23759\n",
      "Country           14387\n",
      "Jazz               7970\n",
      "Electronic         7966\n",
      "Other              5189\n",
      "R&B                3401\n",
      "Indie              3149\n",
      "Folk               2243\n",
      "Name: genre, dtype: int64\n"
     ]
    }
   ],
   "source": [
    "#checking out how many songs belong to each genre. It seems like Rock accounts for about 40% of the dataset\n",
    "genres_count = lyrics.genre.value_counts()\n",
    "print(genres_count)"
   ]
  },
  {
   "cell_type": "code",
   "execution_count": 11,
   "metadata": {},
   "outputs": [
    {
     "data": {
      "image/png": "[encoded data removed]",
      "text/plain": [
       "<Figure size 720x360 with 1 Axes>"
      ]
     },
     "metadata": {
      "needs_background": "light"
     },
     "output_type": "display_data"
    }
   ],
   "source": [
    "#putting it in a plot just to get an idea\n",
    "plt.figure(figsize=(10,5))\n",
    "sns.countplot(x='genre', data=lyrics, palette='Greens_d')\n",
    "plt.xlabel('Genre')\n",
    "plt.ylabel('Count')\n",
    "plt.tight_layout()"
   ]
  },
  {
   "cell_type": "markdown",
   "metadata": {},
   "source": [
    "# Data Cleaning"
   ]
  },
  {
   "cell_type": "code",
   "execution_count": null,
   "metadata": {},
   "outputs": [],
   "source": [
    "#dropping rows of genres that are listed as \"Not Available\"\n",
    "for index, row in lyrics.iterrows():\n",
    "    print(index, row['genre'])\n",
    "    if row['genre'] == \"Not Available\" or row['genre'] == \"Other\":\n",
    "        lyrics = lyrics.drop(index, axis=0)"
   ]
  },
  {
   "cell_type": "code",
   "execution_count": 13,
   "metadata": {},
   "outputs": [
    {
     "name": "stdout",
     "output_type": "stream",
     "text": [
      "237426\n"
     ]
    },
    {
     "data": {
      "text/plain": [
       "Rock          109235\n",
       "Pop            40466\n",
       "Hip-Hop        24850\n",
       "Metal          23759\n",
       "Country        14387\n",
       "Jazz            7970\n",
       "Electronic      7966\n",
       "R&B             3401\n",
       "Indie           3149\n",
       "Folk            2243\n",
       "Name: genre, dtype: int64"
      ]
     },
     "execution_count": 13,
     "metadata": {},
     "output_type": "execute_result"
    }
   ],
   "source": [
    "print(len(lyrics))\n",
    "lyrics.genre.value_counts()"
   ]
  },
  {
   "cell_type": "code",
   "execution_count": 14,
   "metadata": {},
   "outputs": [
    {
     "name": "stdout",
     "output_type": "stream",
     "text": [
      "10104\n"
     ]
    }
   ],
   "source": [
    "#checking how many artists songs are in the dataset. It seems like there may be a lot of duplicates\n",
    "#I don't think there could be as many as 450 to 700 songs from each of these artists\n",
    "\n",
    "artists_group = lyrics.groupby(\"artist\")\n",
    "print(len(artists_group.artist.count()))\n",
    "# artists_group.count().sort_values(by='song', ascending=False).head(50)"
   ]
  },
  {
   "cell_type": "code",
   "execution_count": 15,
   "metadata": {},
   "outputs": [],
   "source": [
    "#checking to see if there are duplicate songs in the dataset\n",
    "dolly = lyrics[lyrics['artist'] == 'dolly-parton']\n",
    "# dolly.sort_values(by = 'song').head(50)"
   ]
  },
  {
   "cell_type": "code",
   "execution_count": 16,
   "metadata": {},
   "outputs": [],
   "source": [
    "#checking output for the groups. Looks to output the indexes for the songs. Will use this for iterating through\n",
    "#the song names and removing duplicates\n",
    "artists = artists_group.apply(lambda x: x.sort_values(\"song\"))\n",
    "# artists"
   ]
  },
  {
   "cell_type": "code",
   "execution_count": null,
   "metadata": {},
   "outputs": [],
   "source": [
    "#Checking output sample\n",
    "artists.loc['childish-gambino'].lyrics"
   ]
  },
  {
   "cell_type": "code",
   "execution_count": 18,
   "metadata": {},
   "outputs": [],
   "source": [
    "#test case for iterating through artists songs\n",
    "# lastsong = \"\"\n",
    "# for index,row in artists.loc['dolly-parton'].iterrows():\n",
    "#     currentsong = row.song\n",
    "#     print(currentsong)\n",
    "#     print(lastsong)\n",
    "#     if fuzz.ratio(currentsong, lastsong) >= 85:\n",
    "#         lastsong = row.song\n",
    "#         lyrics = lyrics.drop(index[1], axis=0)\n",
    "#     print(fuzz.partial_ratio(currentsong, lastsong))\n",
    "    \n",
    "#     print(lastsong)\n"
   ]
  },
  {
   "cell_type": "code",
   "execution_count": 19,
   "metadata": {},
   "outputs": [],
   "source": [
    "# for name, group in artists_group:\n",
    "#     if len(group) > 1:\n",
    "#         for row in group:\n",
    "#             print(row)\n",
    "# #             song1 = lyrics\n",
    "# #             song2 = row.song\n",
    "# #             if fuzz.ratio(song1, song2) > 80:\n",
    "# #                 lyrics = lyrics.drop(lyrics.lyrics.iloc[index])\n",
    "#     print(group)\n",
    "    \n",
    "lastsong = \"\"\n",
    "for index,row in artists.iterrows():\n",
    "    currentsong = row.song\n",
    "#     print(index[1], currentsong)\n",
    "#     print(lastsong)\n",
    "    if fuzz.ratio(currentsong, lastsong) >= 85:\n",
    "#         lastsong = row.song\n",
    "        lyrics = lyrics.drop(index[1], axis=0)\n",
    "#     print(fuzz.partial_ratio(currentsong, lastsong))\n",
    "    lastsong = row.song\n",
    "#     print(lastsong)\n",
    "# len(artists['dolly-parton'])"
   ]
  },
  {
   "cell_type": "code",
   "execution_count": 20,
   "metadata": {},
   "outputs": [
    {
     "data": {
      "text/plain": [
       "231959"
      ]
     },
     "execution_count": 20,
     "metadata": {},
     "output_type": "execute_result"
    }
   ],
   "source": [
    "len(lyrics)"
   ]
  },
  {
   "cell_type": "code",
   "execution_count": 21,
   "metadata": {},
   "outputs": [],
   "source": [
    "#This is to add genres to their own data slices\n",
    "#could be used later for wordcloud perhaps\n",
    "\n",
    "#not_available = lyrics[lyrics['genre'] == 'Not Available']\n",
    "#print(not_available.head(20))"
   ]
  },
  {
   "cell_type": "code",
   "execution_count": 22,
   "metadata": {},
   "outputs": [],
   "source": [
    "#print(not_available.sort_values(by='artist').head(20))"
   ]
  },
  {
   "cell_type": "code",
   "execution_count": 23,
   "metadata": {},
   "outputs": [],
   "source": [
    "lyricsep = lyrics['lyrics']\n",
    "lyricsep2 = lyrics['lyrics']"
   ]
  },
  {
   "cell_type": "code",
   "execution_count": 24,
   "metadata": {},
   "outputs": [
    {
     "data": {
      "text/plain": [
       "pandas.core.series.Series"
      ]
     },
     "execution_count": 24,
     "metadata": {},
     "output_type": "execute_result"
    }
   ],
   "source": [
    "type(lyricsep)"
   ]
  },
  {
   "cell_type": "code",
   "execution_count": 25,
   "metadata": {},
   "outputs": [],
   "source": [
    "#lyricsep=pd.DataFrame(lyricsep)"
   ]
  },
  {
   "cell_type": "code",
   "execution_count": null,
   "metadata": {},
   "outputs": [],
   "source": [
    "print(len(lyricsep))\n",
    "lyricsep[346759]"
   ]
  },
  {
   "cell_type": "code",
   "execution_count": 27,
   "metadata": {},
   "outputs": [],
   "source": [
    "#lyricsep[425]"
   ]
  },
  {
   "cell_type": "code",
   "execution_count": 28,
   "metadata": {},
   "outputs": [],
   "source": [
    "replace = [\"r/'\\p{P}/'\",\"r/'VERSE/'\", \"r/'Verse'\",\"r/'CHORUS/'\", \"r/'Chorus'\",\"r/'INSTRUMENTAL/'\", \"r/'Instrumental'\",\"r/'x\\d/'\",\"r/'\\dx/'\",\"r/'X\\d/'\",\"r/'\\d]/'\",\"r/'BRIDGE/'\", \"r/'Bridge'\",\"r/'HOOK'\", \"r/'Hook'\",\"r/'Pre/'\",\"r/'INTRO/'\", \"r/'Intro'\",\"r/'OUTRO/'\", \"r/'Outro'\",\"r/'\\d/'\",\"r/'^\\w/'\"]"
   ]
  },
  {
   "cell_type": "code",
   "execution_count": 29,
   "metadata": {},
   "outputs": [],
   "source": [
    "#lyricsep4 = lyricsep.replace('Chorus', '')\n",
    "#lyricsep4[8]"
   ]
  },
  {
   "cell_type": "code",
   "execution_count": null,
   "metadata": {},
   "outputs": [],
   "source": [
    "#we are only taking away the \\n and keeping this separate in case or for testing function\n",
    "lyricsep2 = [re.sub(r'\\n',' ', i) for i in lyricsep2]\n",
    "# lyricsep2 = pd.Series(lyricsep2)\n",
    "lyricsep2 = [re.sub(r'x\\d','', i) for i in lyricsep2]\n",
    "# lyricsep2 = pd.Series(lyricsep2)\n",
    "lyricsep2 = [re.sub(r'\\dx','', i) for i in lyricsep2]\n",
    "# lyricsep2 = pd.Series(lyricsep2)\n",
    "lyricsep2 = [re.sub(r'X\\d','', i) for i in lyricsep2]\n",
    "# lyricsep2 = pd.Series(lyricsep2)\n",
    "lyricsep2 = [re.sub(r'\\d','', i) for i in lyricsep2]\n",
    "# lyricsep2 = pd.Series(lyricsep2)\n",
    "lyricsep2 = [re.sub(r'[^\\w ]','', i) for i in lyricsep2]\n",
    "# lyricsep2 = pd.Series(lyricsep2)\n",
    "lyricsep2 = [re.sub(r'Chorus','', i) for i in lyricsep2]\n",
    "# lyricsep2 = pd.Series(lyricsep2)\n",
    "lyricsep2 = [re.sub(r'CHORUS','', i) for i in lyricsep2]\n",
    "# lyricsep2 = pd.Series(lyricsep2)\n",
    "lyricsep2 = [re.sub(r'Verse','', i) for i in lyricsep2]\n",
    "# lyricsep2 = pd.Series(lyricsep2)\n",
    "lyricsep2 = [re.sub(r'VERSE','', i) for i in lyricsep2]\n",
    "# lyricsep2 = pd.Series(lyricsep2)\n",
    "lyricsep2 = [re.sub(r'INSTRUMENTAL','', i) for i in lyricsep2]\n",
    "# lyricsep2 = pd.Series(lyricsep2)\n",
    "lyricsep2 = [re.sub(r'Instrumental','', i) for i in lyricsep2]\n",
    "# lyricsep2 = pd.Series(lyricsep2)\n",
    "lyricsep2 = [re.sub(r'Bridge','', i) for i in lyricsep2]\n",
    "# lyricsep2 = pd.Series(lyricsep2)\n",
    "lyricsep2 = [re.sub(r'BRIDGE','', i) for i in lyricsep2]\n",
    "# lyricsep2 = pd.Series(lyricsep2)\n",
    "lyricsep2 = [re.sub(r'Hook','', i) for i in lyricsep2]\n",
    "# lyricsep2 = pd.Series(lyricsep2)\n",
    "lyricsep2 = [re.sub(r'HOOK','', i) for i in lyricsep2]\n",
    "# lyricsep2 = pd.Series(lyricsep2)\n",
    "lyricsep2 = [re.sub(r'Intro','', i) for i in lyricsep2]\n",
    "# lyricsep2 = pd.Series(lyricsep2)\n",
    "lyricsep2 = [re.sub(r'INTRO','', i) for i in lyricsep2]\n",
    "# lyricsep2 = pd.Series(lyricsep2)\n",
    "lyricsep2 = [re.sub(r'Outro','', i) for i in lyricsep2]\n",
    "# lyricsep2 = pd.Series(lyricsep2)\n",
    "lyricsep2 = [re.sub(r'OUTRO','', i) for i in lyricsep2]\n",
    "# lyricsep2 = pd.Series(lyricsep2)\n",
    "lyricsep2 = [re.sub(r'Pre','', i) for i in lyricsep2]\n",
    "# lyricsep2 = pd.Series(lyricsep2)\n",
    "lyricsep2 = [re.sub(r'PRE','', i) for i in lyricsep2]\n",
    "# lyricsep2 = pd.Series(lyricsep2)\n",
    "print(lyricsep[2])"
   ]
  },
  {
   "cell_type": "code",
   "execution_count": null,
   "metadata": {},
   "outputs": [],
   "source": [
    "lyricsep2[220555]"
   ]
  },
  {
   "cell_type": "code",
   "execution_count": null,
   "metadata": {},
   "outputs": [],
   "source": [
    "lyrics = lyrics.drop('lyrics', axis=1)\n",
    "lyrics.head()"
   ]
  },
  {
   "cell_type": "code",
   "execution_count": null,
   "metadata": {},
   "outputs": [],
   "source": [
    "lyrics['lyrics'] = lyricsep2\n",
    "lyrics.tail(100)"
   ]
  },
  {
   "cell_type": "code",
   "execution_count": 35,
   "metadata": {},
   "outputs": [],
   "source": [
    "#function to able to strip lyrics to the bare minimum, minus \n",
    "# def lyricstrip(x):\n",
    "    \n",
    "#     replacew = [r'\\p{P}',r'Verse',r'verse',r'VERSE',r'chorus',r'Chorus',r'CHORUS',r'Instrumental',r'instrumental',r'INSTRUMENTAL',r'x\\d',r'\\dx',r'X\\d',r'\\dX',r'Bridge',r'Hook',r'HOOK',r'Pre',r'Intro',r'intro',r'INTRO',r'outro',r'Outro',r'OUTRO',r'\\d',r'^A-Za-z0-9+']\n",
    "\n",
    "#     x = [re.sub(r'\\n',' ', i) for i in x]\n",
    "#     x = pd.Series(x)\n",
    "# #    x= [re.sub(j, '',i, flags=re.IGNORECASE) for j in replace for i in x]\n",
    "# #    x = pd.Series(x)\n",
    "# #    return x\n",
    "#     for j in replacew:\n",
    "#         for i in x:\n",
    "#             re.sub(j,'',i)\n",
    "#     return pd.Series(x)"
   ]
  },
  {
   "cell_type": "code",
   "execution_count": 66,
   "metadata": {},
   "outputs": [
    {
     "data": {
      "text/plain": [
       "Rock          106764\n",
       "Pop            39471\n",
       "Hip-Hop        24047\n",
       "Metal          23303\n",
       "Country        14151\n",
       "Jazz            7822\n",
       "Electronic      7816\n",
       "R&B             3324\n",
       "Indie           3107\n",
       "Folk            2154\n",
       "Name: genre, dtype: int64"
      ]
     },
     "execution_count": 66,
     "metadata": {},
     "output_type": "execute_result"
    }
   ],
   "source": [
    "lyrics.genre.value_counts()"
   ]
  },
  {
   "cell_type": "code",
   "execution_count": null,
   "metadata": {},
   "outputs": [],
   "source": [
    "rock = lyrics[lyrics['genre'] == \"Rock\"]\n",
    "rockindex = rock.index\n",
    "# rockindex"
   ]
  },
  {
   "cell_type": "code",
   "execution_count": null,
   "metadata": {},
   "outputs": [],
   "source": [
    "import random\n",
    "\n",
    "rockshort = random.sample(list(rockindex), 40000)\n",
    "rockshort"
   ]
  },
  {
   "cell_type": "code",
   "execution_count": 91,
   "metadata": {},
   "outputs": [],
   "source": [
    "for index, row in lyrics.iterrows():\n",
    "    if (row.genre == \"Rock\" and index not in rockshort):\n",
    "        lyrics = lyrics.drop(index, axis=0)"
   ]
  },
  {
   "cell_type": "code",
   "execution_count": 92,
   "metadata": {},
   "outputs": [
    {
     "data": {
      "text/plain": [
       "Pop           35385\n",
       "Rock          34721\n",
       "Hip-Hop       21433\n",
       "Metal         20488\n",
       "Country       12461\n",
       "Jazz           6850\n",
       "Electronic     6795\n",
       "R&B            2953\n",
       "Indie          2833\n",
       "Folk           1735\n",
       "Name: genre, dtype: int64"
      ]
     },
     "execution_count": 92,
     "metadata": {},
     "output_type": "execute_result"
    }
   ],
   "source": [
    "lyrics.genre.value_counts()"
   ]
  },
  {
   "cell_type": "code",
   "execution_count": 93,
   "metadata": {},
   "outputs": [],
   "source": [
    "lyrics.to_csv(\"lyricstwo.csv\", index=False)"
   ]
  },
  {
   "cell_type": "markdown",
   "metadata": {},
   "source": [
    "# Data Processing and SVM Setup"
   ]
  },
  {
   "cell_type": "code",
   "execution_count": 3,
   "metadata": {},
   "outputs": [],
   "source": [
    "lyricstwo = pd.read_csv(\"lyricstwo.csv\")"
   ]
  },
  {
   "cell_type": "code",
   "execution_count": 4,
   "metadata": {},
   "outputs": [
    {
     "name": "stdout",
     "output_type": "stream",
     "text": [
      "145654\n"
     ]
    },
    {
     "data": {
      "text/html": [
       "<div>\n",
       "<style scoped>\n",
       "    .dataframe tbody tr th:only-of-type {\n",
       "        vertical-align: middle;\n",
       "    }\n",
       "\n",
       "    .dataframe tbody tr th {\n",
       "        vertical-align: top;\n",
       "    }\n",
       "\n",
       "    .dataframe thead th {\n",
       "        text-align: right;\n",
       "    }\n",
       "</style>\n",
       "<table border=\"1\" class=\"dataframe\">\n",
       "  <thead>\n",
       "    <tr style=\"text-align: right;\">\n",
       "      <th></th>\n",
       "      <th>index</th>\n",
       "      <th>song</th>\n",
       "      <th>year</th>\n",
       "      <th>artist</th>\n",
       "      <th>genre</th>\n",
       "      <th>lyrics</th>\n",
       "      <th>genre_label</th>\n",
       "    </tr>\n",
       "  </thead>\n",
       "  <tbody>\n",
       "    <tr>\n",
       "      <th>0</th>\n",
       "      <td>41673</td>\n",
       "      <td>rock-island-line</td>\n",
       "      <td>2005</td>\n",
       "      <td>golden-gate-quartet</td>\n",
       "      <td>Jazz</td>\n",
       "      <td>Now this heres a story about the Rock Island L...</td>\n",
       "      <td>Jazz</td>\n",
       "    </tr>\n",
       "    <tr>\n",
       "      <th>1</th>\n",
       "      <td>41678</td>\n",
       "      <td>stormy-weather</td>\n",
       "      <td>2005</td>\n",
       "      <td>golden-gate-quartet</td>\n",
       "      <td>Jazz</td>\n",
       "      <td>Dont know why Theres no sun up in the sky Stor...</td>\n",
       "      <td>Jazz</td>\n",
       "    </tr>\n",
       "    <tr>\n",
       "      <th>2</th>\n",
       "      <td>41682</td>\n",
       "      <td>preacher-and-the-bear</td>\n",
       "      <td>2005</td>\n",
       "      <td>golden-gate-quartet</td>\n",
       "      <td>Jazz</td>\n",
       "      <td>The preacher went out a huntin it was on one S...</td>\n",
       "      <td>Jazz</td>\n",
       "    </tr>\n",
       "    <tr>\n",
       "      <th>3</th>\n",
       "      <td>41686</td>\n",
       "      <td>dipsy-doodle</td>\n",
       "      <td>2005</td>\n",
       "      <td>golden-gate-quartet</td>\n",
       "      <td>Jazz</td>\n",
       "      <td>The Dipsy Doodles the thing to beware The Dips...</td>\n",
       "      <td>Jazz</td>\n",
       "    </tr>\n",
       "    <tr>\n",
       "      <th>4</th>\n",
       "      <td>41689</td>\n",
       "      <td>my-walking-stick</td>\n",
       "      <td>2005</td>\n",
       "      <td>golden-gate-quartet</td>\n",
       "      <td>Jazz</td>\n",
       "      <td>Without my walking stick Id go insane I cant l...</td>\n",
       "      <td>Jazz</td>\n",
       "    </tr>\n",
       "  </tbody>\n",
       "</table>\n",
       "</div>"
      ],
      "text/plain": [
       "   index                   song  year               artist genre  \\\n",
       "0  41673       rock-island-line  2005  golden-gate-quartet  Jazz   \n",
       "1  41678         stormy-weather  2005  golden-gate-quartet  Jazz   \n",
       "2  41682  preacher-and-the-bear  2005  golden-gate-quartet  Jazz   \n",
       "3  41686           dipsy-doodle  2005  golden-gate-quartet  Jazz   \n",
       "4  41689       my-walking-stick  2005  golden-gate-quartet  Jazz   \n",
       "\n",
       "                                              lyrics genre_label  \n",
       "0  Now this heres a story about the Rock Island L...        Jazz  \n",
       "1  Dont know why Theres no sun up in the sky Stor...        Jazz  \n",
       "2  The preacher went out a huntin it was on one S...        Jazz  \n",
       "3  The Dipsy Doodles the thing to beware The Dips...        Jazz  \n",
       "4  Without my walking stick Id go insane I cant l...        Jazz  "
      ]
     },
     "execution_count": 4,
     "metadata": {},
     "output_type": "execute_result"
    }
   ],
   "source": [
    "lyricstwo['genre_label'] = lyricstwo['genre']\n",
    "print(len(lyricstwo))\n",
    "lyricstwo.head()"
   ]
  },
  {
   "cell_type": "code",
   "execution_count": 5,
   "metadata": {},
   "outputs": [
    {
     "data": {
      "text/plain": [
       "144029"
      ]
     },
     "execution_count": 5,
     "metadata": {},
     "output_type": "execute_result"
    }
   ],
   "source": [
    "lyricstwo = lyricstwo.dropna()\n",
    "len(lyricstwo)"
   ]
  },
  {
   "cell_type": "code",
   "execution_count": 6,
   "metadata": {},
   "outputs": [
    {
     "name": "stderr",
     "output_type": "stream",
     "text": [
      "/Users/SilverSurfer/anaconda3/lib/python3.7/site-packages/ipykernel_launcher.py:29: SettingWithCopyWarning: \n",
      "A value is trying to be set on a copy of a slice from a DataFrame\n",
      "\n",
      "See the caveats in the documentation: http://pandas.pydata.org/pandas-docs/stable/user_guide/indexing.html#returning-a-view-versus-a-copy\n",
      "/Users/SilverSurfer/anaconda3/lib/python3.7/site-packages/ipykernel_launcher.py:17: SettingWithCopyWarning: \n",
      "A value is trying to be set on a copy of a slice from a DataFrame\n",
      "\n",
      "See the caveats in the documentation: http://pandas.pydata.org/pandas-docs/stable/user_guide/indexing.html#returning-a-view-versus-a-copy\n",
      "/Users/SilverSurfer/anaconda3/lib/python3.7/site-packages/ipykernel_launcher.py:28: SettingWithCopyWarning: \n",
      "A value is trying to be set on a copy of a slice from a DataFrame\n",
      "\n",
      "See the caveats in the documentation: http://pandas.pydata.org/pandas-docs/stable/user_guide/indexing.html#returning-a-view-versus-a-copy\n",
      "/Users/SilverSurfer/anaconda3/lib/python3.7/site-packages/ipykernel_launcher.py:19: SettingWithCopyWarning: \n",
      "A value is trying to be set on a copy of a slice from a DataFrame\n",
      "\n",
      "See the caveats in the documentation: http://pandas.pydata.org/pandas-docs/stable/user_guide/indexing.html#returning-a-view-versus-a-copy\n",
      "/Users/SilverSurfer/anaconda3/lib/python3.7/site-packages/ipykernel_launcher.py:13: SettingWithCopyWarning: \n",
      "A value is trying to be set on a copy of a slice from a DataFrame\n",
      "\n",
      "See the caveats in the documentation: http://pandas.pydata.org/pandas-docs/stable/user_guide/indexing.html#returning-a-view-versus-a-copy\n",
      "  del sys.path[0]\n",
      "/Users/SilverSurfer/anaconda3/lib/python3.7/site-packages/ipykernel_launcher.py:7: SettingWithCopyWarning: \n",
      "A value is trying to be set on a copy of a slice from a DataFrame\n",
      "\n",
      "See the caveats in the documentation: http://pandas.pydata.org/pandas-docs/stable/user_guide/indexing.html#returning-a-view-versus-a-copy\n",
      "  import sys\n",
      "/Users/SilverSurfer/anaconda3/lib/python3.7/site-packages/ipykernel_launcher.py:11: SettingWithCopyWarning: \n",
      "A value is trying to be set on a copy of a slice from a DataFrame\n",
      "\n",
      "See the caveats in the documentation: http://pandas.pydata.org/pandas-docs/stable/user_guide/indexing.html#returning-a-view-versus-a-copy\n",
      "  # This is added back by InteractiveShellApp.init_path()\n",
      "/Users/SilverSurfer/anaconda3/lib/python3.7/site-packages/ipykernel_launcher.py:23: SettingWithCopyWarning: \n",
      "A value is trying to be set on a copy of a slice from a DataFrame\n",
      "\n",
      "See the caveats in the documentation: http://pandas.pydata.org/pandas-docs/stable/user_guide/indexing.html#returning-a-view-versus-a-copy\n",
      "/Users/SilverSurfer/anaconda3/lib/python3.7/site-packages/ipykernel_launcher.py:15: SettingWithCopyWarning: \n",
      "A value is trying to be set on a copy of a slice from a DataFrame\n",
      "\n",
      "See the caveats in the documentation: http://pandas.pydata.org/pandas-docs/stable/user_guide/indexing.html#returning-a-view-versus-a-copy\n",
      "  from ipykernel import kernelapp as app\n",
      "/Users/SilverSurfer/anaconda3/lib/python3.7/site-packages/ipykernel_launcher.py:21: SettingWithCopyWarning: \n",
      "A value is trying to be set on a copy of a slice from a DataFrame\n",
      "\n",
      "See the caveats in the documentation: http://pandas.pydata.org/pandas-docs/stable/user_guide/indexing.html#returning-a-view-versus-a-copy\n",
      "/Users/SilverSurfer/anaconda3/lib/python3.7/site-packages/ipykernel_launcher.py:25: SettingWithCopyWarning: \n",
      "A value is trying to be set on a copy of a slice from a DataFrame\n",
      "\n",
      "See the caveats in the documentation: http://pandas.pydata.org/pandas-docs/stable/user_guide/indexing.html#returning-a-view-versus-a-copy\n",
      "/Users/SilverSurfer/anaconda3/lib/python3.7/site-packages/ipykernel_launcher.py:9: SettingWithCopyWarning: \n",
      "A value is trying to be set on a copy of a slice from a DataFrame\n",
      "\n",
      "See the caveats in the documentation: http://pandas.pydata.org/pandas-docs/stable/user_guide/indexing.html#returning-a-view-versus-a-copy\n",
      "  if __name__ == '__main__':\n"
     ]
    }
   ],
   "source": [
    "#Iterating through the dataframe assigning numbers to each genre for classification purposes\n",
    "from nltk.tokenize import word_tokenize\n",
    "\n",
    "for index, row in lyricstwo.iterrows():\n",
    "#     print(row.genre)\n",
    "    if row.genre == \"Pop\":\n",
    "        lyricstwo.genre_label[index] = 0\n",
    "    elif row.genre == \"Rock\":\n",
    "        lyricstwo.genre_label[index] = 1\n",
    "    elif row.genre == \"Hip-Hop\":\n",
    "        lyricstwo.genre_label[index] = 2\n",
    "    elif row.genre == \"Metal\":\n",
    "        lyricstwo.genre_label[index] = 3\n",
    "    elif row.genre == \"Country\":\n",
    "        lyricstwo.genre_label[index] = 4\n",
    "    elif row.genre == \"Jazz\":\n",
    "        lyricstwo.genre_label[index] = 5\n",
    "    elif row.genre == \"Electronic\":\n",
    "        lyricstwo.genre_label[index] = 6\n",
    "    elif row.genre == \"R&B\":\n",
    "        lyricstwo.genre_label[index] = 7\n",
    "    elif row.genre == \"Indie\":\n",
    "        lyricstwo.genre_label[index] = 8\n",
    "    else:\n",
    "        lyricstwo.genre_label[index] = 9\n",
    "    \n",
    "#     print(row.lyrics)\n",
    "    lyricstwo.lyrics[index] = row.lyrics.lower()\n",
    "    lyricstwo.lyrics[index] = word_tokenize(lyricstwo.lyrics[index])\n"
   ]
  },
  {
   "cell_type": "code",
   "execution_count": 7,
   "metadata": {},
   "outputs": [],
   "source": [
    "# lyricstwo.head(20)"
   ]
  },
  {
   "cell_type": "code",
   "execution_count": 8,
   "metadata": {},
   "outputs": [],
   "source": [
    "wordfreq = {}\n",
    "for index, row in lyricstwo.iterrows():\n",
    "    for token in row.lyrics:\n",
    "        if token not in wordfreq.keys():\n",
    "            wordfreq[token] = 1\n",
    "        else:\n",
    "            wordfreq[token] += 1"
   ]
  },
  {
   "cell_type": "code",
   "execution_count": 9,
   "metadata": {},
   "outputs": [],
   "source": [
    "wordfreq1 = {k: v for k, v in sorted(wordfreq.items(), key=lambda item: item[1], reverse=True)}\n",
    "# wordfreq1"
   ]
  },
  {
   "cell_type": "code",
   "execution_count": 10,
   "metadata": {},
   "outputs": [
    {
     "data": {
      "text/plain": [
       "367673"
      ]
     },
     "execution_count": 10,
     "metadata": {},
     "output_type": "execute_result"
    }
   ],
   "source": [
    "len(wordfreq1)"
   ]
  },
  {
   "cell_type": "code",
   "execution_count": 11,
   "metadata": {},
   "outputs": [],
   "source": [
    "import heapq\n",
    "freq_words = heapq.nlargest(300, wordfreq1, key=wordfreq1.get)"
   ]
  },
  {
   "cell_type": "code",
   "execution_count": 12,
   "metadata": {},
   "outputs": [],
   "source": [
    "lyricvector = []\n",
    "for index, row in lyricstwo.iterrows():\n",
    "    vector = []\n",
    "    for word in freq_words:\n",
    "        if word in row.lyrics:\n",
    "            vector.append(1)\n",
    "        else:\n",
    "            vector.append(0)\n",
    "    lyricvector.append(vector)\n",
    "lyricstwo['lyric_vector'] = lyricvector"
   ]
  },
  {
   "cell_type": "code",
   "execution_count": 13,
   "metadata": {},
   "outputs": [],
   "source": [
    "lyricvector = np.asarray(lyricvector)"
   ]
  },
  {
   "cell_type": "code",
   "execution_count": 14,
   "metadata": {},
   "outputs": [
    {
     "data": {
      "text/html": [
       "<div>\n",
       "<style scoped>\n",
       "    .dataframe tbody tr th:only-of-type {\n",
       "        vertical-align: middle;\n",
       "    }\n",
       "\n",
       "    .dataframe tbody tr th {\n",
       "        vertical-align: top;\n",
       "    }\n",
       "\n",
       "    .dataframe thead th {\n",
       "        text-align: right;\n",
       "    }\n",
       "</style>\n",
       "<table border=\"1\" class=\"dataframe\">\n",
       "  <thead>\n",
       "    <tr style=\"text-align: right;\">\n",
       "      <th></th>\n",
       "      <th>index</th>\n",
       "      <th>song</th>\n",
       "      <th>year</th>\n",
       "      <th>artist</th>\n",
       "      <th>genre</th>\n",
       "      <th>lyrics</th>\n",
       "      <th>genre_label</th>\n",
       "      <th>lyric_vector</th>\n",
       "    </tr>\n",
       "  </thead>\n",
       "  <tbody>\n",
       "    <tr>\n",
       "      <th>0</th>\n",
       "      <td>41673</td>\n",
       "      <td>rock-island-line</td>\n",
       "      <td>2005</td>\n",
       "      <td>golden-gate-quartet</td>\n",
       "      <td>Jazz</td>\n",
       "      <td>[now, this, heres, a, story, about, the, rock,...</td>\n",
       "      <td>5</td>\n",
       "      <td>[1, 1, 1, 1, 1, 1, 1, 0, 1, 1, 1, 1, 1, 1, 1, ...</td>\n",
       "    </tr>\n",
       "    <tr>\n",
       "      <th>1</th>\n",
       "      <td>41678</td>\n",
       "      <td>stormy-weather</td>\n",
       "      <td>2005</td>\n",
       "      <td>golden-gate-quartet</td>\n",
       "      <td>Jazz</td>\n",
       "      <td>[dont, know, why, theres, no, sun, up, in, the...</td>\n",
       "      <td>5</td>\n",
       "      <td>[1, 1, 0, 0, 1, 0, 1, 1, 1, 0, 1, 0, 0, 1, 1, ...</td>\n",
       "    </tr>\n",
       "    <tr>\n",
       "      <th>2</th>\n",
       "      <td>41682</td>\n",
       "      <td>preacher-and-the-bear</td>\n",
       "      <td>2005</td>\n",
       "      <td>golden-gate-quartet</td>\n",
       "      <td>Jazz</td>\n",
       "      <td>[the, preacher, went, out, a, huntin, it, was,...</td>\n",
       "      <td>5</td>\n",
       "      <td>[1, 1, 1, 1, 1, 1, 1, 0, 1, 1, 1, 0, 1, 1, 1, ...</td>\n",
       "    </tr>\n",
       "    <tr>\n",
       "      <th>3</th>\n",
       "      <td>41686</td>\n",
       "      <td>dipsy-doodle</td>\n",
       "      <td>2005</td>\n",
       "      <td>golden-gate-quartet</td>\n",
       "      <td>Jazz</td>\n",
       "      <td>[the, dipsy, doodles, the, thing, to, beware, ...</td>\n",
       "      <td>5</td>\n",
       "      <td>[1, 1, 1, 1, 1, 1, 1, 0, 1, 1, 1, 1, 1, 0, 0, ...</td>\n",
       "    </tr>\n",
       "    <tr>\n",
       "      <th>4</th>\n",
       "      <td>41689</td>\n",
       "      <td>my-walking-stick</td>\n",
       "      <td>2005</td>\n",
       "      <td>golden-gate-quartet</td>\n",
       "      <td>Jazz</td>\n",
       "      <td>[without, my, walking, stick, id, go, insane, ...</td>\n",
       "      <td>5</td>\n",
       "      <td>[1, 1, 0, 0, 0, 0, 1, 1, 0, 1, 0, 0, 1, 1, 0, ...</td>\n",
       "    </tr>\n",
       "  </tbody>\n",
       "</table>\n",
       "</div>"
      ],
      "text/plain": [
       "   index                   song  year               artist genre  \\\n",
       "0  41673       rock-island-line  2005  golden-gate-quartet  Jazz   \n",
       "1  41678         stormy-weather  2005  golden-gate-quartet  Jazz   \n",
       "2  41682  preacher-and-the-bear  2005  golden-gate-quartet  Jazz   \n",
       "3  41686           dipsy-doodle  2005  golden-gate-quartet  Jazz   \n",
       "4  41689       my-walking-stick  2005  golden-gate-quartet  Jazz   \n",
       "\n",
       "                                              lyrics genre_label  \\\n",
       "0  [now, this, heres, a, story, about, the, rock,...           5   \n",
       "1  [dont, know, why, theres, no, sun, up, in, the...           5   \n",
       "2  [the, preacher, went, out, a, huntin, it, was,...           5   \n",
       "3  [the, dipsy, doodles, the, thing, to, beware, ...           5   \n",
       "4  [without, my, walking, stick, id, go, insane, ...           5   \n",
       "\n",
       "                                        lyric_vector  \n",
       "0  [1, 1, 1, 1, 1, 1, 1, 0, 1, 1, 1, 1, 1, 1, 1, ...  \n",
       "1  [1, 1, 0, 0, 1, 0, 1, 1, 1, 0, 1, 0, 0, 1, 1, ...  \n",
       "2  [1, 1, 1, 1, 1, 1, 1, 0, 1, 1, 1, 0, 1, 1, 1, ...  \n",
       "3  [1, 1, 1, 1, 1, 1, 1, 0, 1, 1, 1, 1, 1, 0, 0, ...  \n",
       "4  [1, 1, 0, 0, 0, 0, 1, 1, 0, 1, 0, 0, 1, 1, 0, ...  "
      ]
     },
     "execution_count": 14,
     "metadata": {},
     "output_type": "execute_result"
    }
   ],
   "source": [
    "lyricstwo['lyric_vector'] = list(lyricvector)\n",
    "lyricstwo.head()"
   ]
  },
  {
   "cell_type": "code",
   "execution_count": 15,
   "metadata": {},
   "outputs": [],
   "source": [
    "lyricstwo.to_csv(\"lyricsthree.csv\", index=False)"
   ]
  },
  {
   "cell_type": "code",
   "execution_count": 16,
   "metadata": {},
   "outputs": [],
   "source": [
    "#setting up our variables to use for the training and testing\n",
    "\n",
    "X = lyricvector\n",
    "y = lyricstwo['genre_label'].astype(int)"
   ]
  },
  {
   "cell_type": "code",
   "execution_count": 17,
   "metadata": {},
   "outputs": [],
   "source": [
    "# Splitting up the data into training and testing sets \n",
    "X_train, X_test, y_train, y_test = train_test_split(X,y,test_size = 0.2)"
   ]
  },
  {
   "cell_type": "code",
   "execution_count": 18,
   "metadata": {},
   "outputs": [
    {
     "name": "stdout",
     "output_type": "stream",
     "text": [
      "Accuracy of Logistic regression classifier on training set: 0.50\n",
      "Accuracy of Logistic regression classifier on test set: 0.49\n"
     ]
    }
   ],
   "source": [
    "#testing out Logistic Regression Model\n",
    "from sklearn.linear_model import LogisticRegression\n",
    "\n",
    "logreg = LogisticRegression(max_iter = 1000)\n",
    "logreg.fit(X_train, y_train)\n",
    "\n",
    "print('Accuracy of Logistic regression classifier on training set: {:.2f}'\n",
    "     .format(logreg.score(X_train, y_train)))\n",
    "print('Accuracy of Logistic regression classifier on test set: {:.2f}'\n",
    "     .format(logreg.score(X_test, y_test)))"
   ]
  },
  {
   "cell_type": "code",
   "execution_count": 19,
   "metadata": {},
   "outputs": [
    {
     "name": "stdout",
     "output_type": "stream",
     "text": [
      "Accuracy of K-NN classifier on training set: 0.58\n",
      "Accuracy of K-NN classifier on test set: 0.40\n"
     ]
    }
   ],
   "source": [
    "from sklearn.neighbors import KNeighborsClassifier\n",
    "\n",
    "knn = KNeighborsClassifier()\n",
    "knn.fit(X_train, y_train)\n",
    "\n",
    "print('Accuracy of K-NN classifier on training set: {:.2f}'\n",
    "     .format(knn.score(X_train, y_train)))\n",
    "print('Accuracy of K-NN classifier on test set: {:.2f}'\n",
    "     .format(knn.score(X_test, y_test)))"
   ]
  },
  {
   "cell_type": "code",
   "execution_count": 20,
   "metadata": {},
   "outputs": [
    {
     "name": "stdout",
     "output_type": "stream",
     "text": [
      "Accuracy of GNB classifier on training set: 0.26\n",
      "Accuracy of GNB classifier on test set: 0.25\n"
     ]
    }
   ],
   "source": [
    "from sklearn.naive_bayes import GaussianNB\n",
    "gnb = GaussianNB()\n",
    "gnb.fit(X_train, y_train)\n",
    "print('Accuracy of GNB classifier on training set: {:.2f}'\n",
    "     .format(gnb.score(X_train, y_train)))\n",
    "print('Accuracy of GNB classifier on test set: {:.2f}'\n",
    "     .format(gnb.score(X_test, y_test)))"
   ]
  },
  {
   "cell_type": "code",
   "execution_count": null,
   "metadata": {},
   "outputs": [],
   "source": [
    "from sklearn.svm import SVC\n",
    "svm = SVC()\n",
    "svm.fit(X_train, y_train)\n",
    "print('Accuracy of SVM classifier on training set: {:.2f}'\n",
    "     .format(svm.score(X_train, y_train)))\n",
    "print('Accuracy of SVM classifier on test set: {:.2f}'\n",
    "     .format(svm.score(X_test, y_test)))"
   ]
  },
  {
   "cell_type": "code",
   "execution_count": null,
   "metadata": {},
   "outputs": [],
   "source": [
    "from sklearn.linear_model import SGDClassifier\n",
    "sgd = SGDClassifier(loss='modified-huber', shuffle=True)\n",
    "sgd.fit(X_train, y_train)\n",
    "print('Accuracy of SGD classifier on training set: {:.2f}'\n",
    "     .format(sgd.score(X_train, y_train)))\n",
    "print('Accuracy of SGD classifier on test set: {:.2f}'\n",
    "     .format(sgd.score(X_test, y_test)))s"
   ]
  },
  {
   "cell_type": "code",
   "execution_count": null,
   "metadata": {},
   "outputs": [],
   "source": []
  }
 ],
 "metadata": {
  "kernelspec": {
   "display_name": "Python 3",
   "language": "python",
   "name": "python3"
  },
  "language_info": {
   "codemirror_mode": {
    "name": "ipython",
    "version": 3
   },
   "file_extension": ".py",
   "mimetype": "text/x-python",
   "name": "python",
   "nbconvert_exporter": "python",
   "pygments_lexer": "ipython3",
   "version": "3.7.1"
  },
  "widgets": {
   "application/vnd.jupyter.widget-state+json": {
    "state": {},
    "version_major": 2,
    "version_minor": 0
   }
  }
 },
 "nbformat": 4,
 "nbformat_minor": 2
}
