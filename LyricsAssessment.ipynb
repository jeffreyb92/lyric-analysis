{
 "cells": [
  {
   "cell_type": "code",
   "execution_count": 1,
   "metadata": {},
   "outputs": [],
   "source": [
    "import pandas as pd\n",
    "import numpy as np\n",
    "import matplotlib.pyplot as plt\n",
    "import seaborn as sns\n",
    "%matplotlib inline\n",
    "import regex as re"
   ]
  },
  {
   "cell_type": "code",
   "execution_count": 2,
   "metadata": {},
   "outputs": [],
   "source": [
    "#reading in the lyrics dataset\n",
    "lyrics = pd.read_csv('lyrics.csv')"
   ]
  },
  {
   "cell_type": "code",
   "execution_count": 3,
   "metadata": {},
   "outputs": [
    {
     "data": {
      "text/html": [
       "<div>\n",
       "<style scoped>\n",
       "    .dataframe tbody tr th:only-of-type {\n",
       "        vertical-align: middle;\n",
       "    }\n",
       "\n",
       "    .dataframe tbody tr th {\n",
       "        vertical-align: top;\n",
       "    }\n",
       "\n",
       "    .dataframe thead th {\n",
       "        text-align: right;\n",
       "    }\n",
       "</style>\n",
       "<table border=\"1\" class=\"dataframe\">\n",
       "  <thead>\n",
       "    <tr style=\"text-align: right;\">\n",
       "      <th></th>\n",
       "      <th>index</th>\n",
       "      <th>song</th>\n",
       "      <th>year</th>\n",
       "      <th>artist</th>\n",
       "      <th>genre</th>\n",
       "      <th>lyrics</th>\n",
       "    </tr>\n",
       "  </thead>\n",
       "  <tbody>\n",
       "    <tr>\n",
       "      <th>0</th>\n",
       "      <td>0</td>\n",
       "      <td>ego-remix</td>\n",
       "      <td>2009</td>\n",
       "      <td>beyonce-knowles</td>\n",
       "      <td>Pop</td>\n",
       "      <td>Oh baby, how you doing?\\nYou know I'm gonna cu...</td>\n",
       "    </tr>\n",
       "    <tr>\n",
       "      <th>1</th>\n",
       "      <td>1</td>\n",
       "      <td>then-tell-me</td>\n",
       "      <td>2009</td>\n",
       "      <td>beyonce-knowles</td>\n",
       "      <td>Pop</td>\n",
       "      <td>playin' everything so easy,\\nit's like you see...</td>\n",
       "    </tr>\n",
       "    <tr>\n",
       "      <th>2</th>\n",
       "      <td>2</td>\n",
       "      <td>honesty</td>\n",
       "      <td>2009</td>\n",
       "      <td>beyonce-knowles</td>\n",
       "      <td>Pop</td>\n",
       "      <td>If you search\\nFor tenderness\\nIt isn't hard t...</td>\n",
       "    </tr>\n",
       "    <tr>\n",
       "      <th>3</th>\n",
       "      <td>3</td>\n",
       "      <td>you-are-my-rock</td>\n",
       "      <td>2009</td>\n",
       "      <td>beyonce-knowles</td>\n",
       "      <td>Pop</td>\n",
       "      <td>Oh oh oh I, oh oh oh I\\n[Verse 1:]\\nIf I wrote...</td>\n",
       "    </tr>\n",
       "    <tr>\n",
       "      <th>4</th>\n",
       "      <td>4</td>\n",
       "      <td>black-culture</td>\n",
       "      <td>2009</td>\n",
       "      <td>beyonce-knowles</td>\n",
       "      <td>Pop</td>\n",
       "      <td>Party the people, the people the party it's po...</td>\n",
       "    </tr>\n",
       "  </tbody>\n",
       "</table>\n",
       "</div>"
      ],
      "text/plain": [
       "   index             song  year           artist genre  \\\n",
       "0      0        ego-remix  2009  beyonce-knowles   Pop   \n",
       "1      1     then-tell-me  2009  beyonce-knowles   Pop   \n",
       "2      2          honesty  2009  beyonce-knowles   Pop   \n",
       "3      3  you-are-my-rock  2009  beyonce-knowles   Pop   \n",
       "4      4    black-culture  2009  beyonce-knowles   Pop   \n",
       "\n",
       "                                              lyrics  \n",
       "0  Oh baby, how you doing?\\nYou know I'm gonna cu...  \n",
       "1  playin' everything so easy,\\nit's like you see...  \n",
       "2  If you search\\nFor tenderness\\nIt isn't hard t...  \n",
       "3  Oh oh oh I, oh oh oh I\\n[Verse 1:]\\nIf I wrote...  \n",
       "4  Party the people, the people the party it's po...  "
      ]
     },
     "execution_count": 3,
     "metadata": {},
     "output_type": "execute_result"
    }
   ],
   "source": [
    "#checking out the first few lines\n",
    "lyrics.head()"
   ]
  },
  {
   "cell_type": "code",
   "execution_count": 4,
   "metadata": {},
   "outputs": [
    {
     "name": "stdout",
     "output_type": "stream",
     "text": [
      "<class 'pandas.core.frame.DataFrame'>\n",
      "RangeIndex: 362237 entries, 0 to 362236\n",
      "Data columns (total 6 columns):\n",
      "index     362237 non-null int64\n",
      "song      362235 non-null object\n",
      "year      362237 non-null int64\n",
      "artist    362237 non-null object\n",
      "genre     362237 non-null object\n",
      "lyrics    266557 non-null object\n",
      "dtypes: int64(2), object(4)\n",
      "memory usage: 16.6+ MB\n"
     ]
    }
   ],
   "source": [
    "#checking if there is anything out of the ordinary in terms of consistency\n",
    "#we see that there are almost 100000 songs that do not have lyrics, so we can get rid of those\n",
    "lyrics.info()"
   ]
  },
  {
   "cell_type": "code",
   "execution_count": 5,
   "metadata": {},
   "outputs": [],
   "source": [
    "#dropping any rows that have no lyrics\n",
    "lyrics = lyrics.dropna()"
   ]
  },
  {
   "cell_type": "code",
   "execution_count": 6,
   "metadata": {},
   "outputs": [
    {
     "name": "stdout",
     "output_type": "stream",
     "text": [
      "<class 'pandas.core.frame.DataFrame'>\n",
      "Int64Index: 266556 entries, 0 to 362236\n",
      "Data columns (total 6 columns):\n",
      "index     266556 non-null int64\n",
      "song      266556 non-null object\n",
      "year      266556 non-null int64\n",
      "artist    266556 non-null object\n",
      "genre     266556 non-null object\n",
      "lyrics    266556 non-null object\n",
      "dtypes: int64(2), object(4)\n",
      "memory usage: 14.2+ MB\n"
     ]
    }
   ],
   "source": [
    "#checking to make sure that all the empty rows were dropped and it looks like they were\n",
    "lyrics.info()"
   ]
  },
  {
   "cell_type": "code",
   "execution_count": 7,
   "metadata": {},
   "outputs": [
    {
     "data": {
      "text/html": [
       "<div>\n",
       "<style scoped>\n",
       "    .dataframe tbody tr th:only-of-type {\n",
       "        vertical-align: middle;\n",
       "    }\n",
       "\n",
       "    .dataframe tbody tr th {\n",
       "        vertical-align: top;\n",
       "    }\n",
       "\n",
       "    .dataframe thead th {\n",
       "        text-align: right;\n",
       "    }\n",
       "</style>\n",
       "<table border=\"1\" class=\"dataframe\">\n",
       "  <thead>\n",
       "    <tr style=\"text-align: right;\">\n",
       "      <th></th>\n",
       "      <th>index</th>\n",
       "      <th>year</th>\n",
       "    </tr>\n",
       "  </thead>\n",
       "  <tbody>\n",
       "    <tr>\n",
       "      <th>count</th>\n",
       "      <td>266556.000000</td>\n",
       "      <td>266556.000000</td>\n",
       "    </tr>\n",
       "    <tr>\n",
       "      <th>mean</th>\n",
       "      <td>181938.409760</td>\n",
       "      <td>2007.654909</td>\n",
       "    </tr>\n",
       "    <tr>\n",
       "      <th>std</th>\n",
       "      <td>104125.770697</td>\n",
       "      <td>10.115249</td>\n",
       "    </tr>\n",
       "    <tr>\n",
       "      <th>min</th>\n",
       "      <td>0.000000</td>\n",
       "      <td>67.000000</td>\n",
       "    </tr>\n",
       "    <tr>\n",
       "      <th>25%</th>\n",
       "      <td>92455.750000</td>\n",
       "      <td>2006.000000</td>\n",
       "    </tr>\n",
       "    <tr>\n",
       "      <th>50%</th>\n",
       "      <td>182105.500000</td>\n",
       "      <td>2007.000000</td>\n",
       "    </tr>\n",
       "    <tr>\n",
       "      <th>75%</th>\n",
       "      <td>272055.250000</td>\n",
       "      <td>2010.000000</td>\n",
       "    </tr>\n",
       "    <tr>\n",
       "      <th>max</th>\n",
       "      <td>362236.000000</td>\n",
       "      <td>2016.000000</td>\n",
       "    </tr>\n",
       "  </tbody>\n",
       "</table>\n",
       "</div>"
      ],
      "text/plain": [
       "               index           year\n",
       "count  266556.000000  266556.000000\n",
       "mean   181938.409760    2007.654909\n",
       "std    104125.770697      10.115249\n",
       "min         0.000000      67.000000\n",
       "25%     92455.750000    2006.000000\n",
       "50%    182105.500000    2007.000000\n",
       "75%    272055.250000    2010.000000\n",
       "max    362236.000000    2016.000000"
      ]
     },
     "execution_count": 7,
     "metadata": {},
     "output_type": "execute_result"
    }
   ],
   "source": [
    "#using to get an idea of range of years we have in this data set and it seems to be mostly from 2000's\n",
    "lyrics.describe()"
   ]
  },
  {
   "cell_type": "code",
   "execution_count": 8,
   "metadata": {},
   "outputs": [
    {
     "name": "stdout",
     "output_type": "stream",
     "text": [
      "['Pop' 'Hip-Hop' 'Not Available' 'Rock' 'Metal' 'Other' 'Country' 'Jazz'\n",
      " 'Electronic' 'Folk' 'R&B' 'Indie']\n"
     ]
    }
   ],
   "source": [
    "#checking all the unique genres in the dataset. It seem there are about 11 and one Not Available\n",
    "genres = lyrics['genre'].unique()\n",
    "print(genres)"
   ]
  },
  {
   "cell_type": "code",
   "execution_count": 9,
   "metadata": {},
   "outputs": [
    {
     "name": "stdout",
     "output_type": "stream",
     "text": [
      "Rock             109235\n",
      "Pop               40466\n",
      "Hip-Hop           24850\n",
      "Not Available     23941\n",
      "Metal             23759\n",
      "Country           14387\n",
      "Jazz               7970\n",
      "Electronic         7966\n",
      "Other              5189\n",
      "R&B                3401\n",
      "Indie              3149\n",
      "Folk               2243\n",
      "Name: genre, dtype: int64\n"
     ]
    }
   ],
   "source": [
    "#checking out how many songs belong to each genre. It seems like Rock accounts for about 40% of the dataset\n",
    "genres_count = lyrics.genre.value_counts()\n",
    "print(genres_count)"
   ]
  },
  {
   "cell_type": "code",
   "execution_count": 10,
   "metadata": {},
   "outputs": [
    {
     "data": {
      "image/png": "[encoded data removed]",
      "text/plain": [
       "<Figure size 720x360 with 1 Axes>"
      ]
     },
     "metadata": {
      "needs_background": "light"
     },
     "output_type": "display_data"
    }
   ],
   "source": [
    "#putting it in a plot just to get an idea\n",
    "plt.figure(figsize=(10,5))\n",
    "sns.countplot(x='genre', data=lyrics, palette='Greens_d')\n",
    "plt.xlabel('Genre')\n",
    "plt.ylabel('Count')\n",
    "plt.tight_layout()"
   ]
  },
  {
   "cell_type": "code",
   "execution_count": 11,
   "metadata": {},
   "outputs": [
    {
     "name": "stdout",
     "output_type": "stream",
     "text": [
      "dolly-parton         744\n",
      "elton-john           676\n",
      "chris-brown          628\n",
      "barbra-streisand     607\n",
      "bob-dylan            596\n",
      "eddy-arnold          591\n",
      "bee-gees             591\n",
      "eminem               578\n",
      "ella-fitzgerald      571\n",
      "david-bowie          570\n",
      "american-idol        568\n",
      "dean-martin          560\n",
      "b-b-king             543\n",
      "celine-dion          540\n",
      "elvis-costello       522\n",
      "bruce-springsteen    509\n",
      "beach-boys           495\n",
      "bill-anderson        466\n",
      "eric-clapton         461\n",
      "frank-zappa          457\n",
      "Name: artist, dtype: int64\n"
     ]
    },
    {
     "data": {
      "text/plain": [
       "14543"
      ]
     },
     "execution_count": 11,
     "metadata": {},
     "output_type": "execute_result"
    }
   ],
   "source": [
    "#checking how many artists songs are in the dataset. It seems like there may be a lot of duplicates\n",
    "#I don't think there could be as many as 450 to 700 songs from each of these artists\n",
    "artist_count = lyrics.artist.value_counts()\n",
    "print(artist_count.head(20))\n",
    "\n",
    "#checking how many individual artists there are. About 14500 all together\n",
    "artist_count.count()    "
   ]
  },
  {
   "cell_type": "code",
   "execution_count": 12,
   "metadata": {},
   "outputs": [],
   "source": [
    "#checking to see if there are duplicates in the dataset\n",
    "#dolly = lyrics[lyrics['artist'] == 'dolly-parton']\n",
    "#dolly.sort_values(by = 'song').head(50)"
   ]
  },
  {
   "cell_type": "code",
   "execution_count": 13,
   "metadata": {},
   "outputs": [],
   "source": [
    "#This is to add genres to their own data slices\n",
    "#could be used later for wordcloud perhaps\n",
    "\n",
    "#not_available = lyrics[lyrics['genre'] == 'Not Available']\n",
    "#print(not_available.head(20))"
   ]
  },
  {
   "cell_type": "code",
   "execution_count": 14,
   "metadata": {},
   "outputs": [],
   "source": [
    "#print(not_available.sort_values(by='artist').head(20))"
   ]
  },
  {
   "cell_type": "code",
   "execution_count": 15,
   "metadata": {},
   "outputs": [],
   "source": [
    "lyricsep = lyrics['lyrics']"
   ]
  },
  {
   "cell_type": "code",
   "execution_count": 16,
   "metadata": {},
   "outputs": [
    {
     "data": {
      "text/plain": [
       "pandas.core.series.Series"
      ]
     },
     "execution_count": 16,
     "metadata": {},
     "output_type": "execute_result"
    }
   ],
   "source": [
    "type(lyricsep)"
   ]
  },
  {
   "cell_type": "code",
   "execution_count": 17,
   "metadata": {},
   "outputs": [],
   "source": [
    "#lyricsep=pd.DataFrame(lyricsep)"
   ]
  },
  {
   "cell_type": "code",
   "execution_count": 18,
   "metadata": {},
   "outputs": [
    {
     "data": {
      "text/plain": [
       "\"Oh baby, how you doing?\\nYou know I'm gonna cut right to the chase\\nSome women were made but me, myself\\nI like to think that I was created for a special purpose\\nYou know, what's more special than you? You feel me\\nIt's on baby, let's get lost\\nYou don't need to call into work 'cause you're the boss\\nFor real, want you to show me how you feel\\nI consider myself lucky, that's a big deal\\nWhy? Well, you got the key to my heart\\nBut you ain't gonna need it, I'd rather you open up my body\\nAnd show me secrets, you didn't know was inside\\nNo need for me to lie\\nIt's too big, it's too wide\\nIt's too strong, it won't fit\\nIt's too much, it's too tough\\nHe talk like this 'cause he can back it up\\nHe got a big ego, such a huge ego\\nI love his big ego, it's too much\\nHe walk like this 'cause he can back it up\\nUsually I'm humble, right now I don't choose\\nYou can leave with me or you could have the blues\\nSome call it arrogant, I call it confident\\nYou decide when you find on what I'm working with\\nDamn I know I'm killing you with them legs\\nBetter yet them thighs\\nMatter a fact it's my smile or maybe my eyes\\nBoy you a site to see, kind of something like me\\nIt's too big, it's too wide\\nIt's too strong, it won't fit\\nIt's too much, it's too tough\\nI talk like this 'cause I can back it up\\nI got a big ego, such a huge ego\\nBut he love my big ego, it's too much\\nI walk like this 'cause I can back it up\\nI, I walk like this 'cause I can back it up\\nI, I talk like this 'cause I can back it up\\nI, I can back it up, I can back it up\\nI walk like this 'cause I can back it up\\nIt's too big, it's too wide\\nIt's too strong, it won't fit\\nIt's too much, it's too tough\\nHe talk like this 'cause he can back it up\\nHe got a big ego, such a huge ego, such a huge ego\\nI love his big ego, it's too much\\nHe walk like this 'cause he can back it up\\nEgo so big, you must admit\\nI got every reason to feel like I'm that bitch\\nEgo so strong, if you ain't know\\nI don't need no beat, I can sing it with piano\""
      ]
     },
     "execution_count": 18,
     "metadata": {},
     "output_type": "execute_result"
    }
   ],
   "source": [
    "lyricsep[0]"
   ]
  },
  {
   "cell_type": "code",
   "execution_count": 19,
   "metadata": {},
   "outputs": [],
   "source": [
    "#lyricsep[425]"
   ]
  },
  {
   "cell_type": "code",
   "execution_count": 20,
   "metadata": {},
   "outputs": [],
   "source": [
    "replace = [\"r/'\\p{P}/'\",\"r/'VERSE/'\",\"r/'CHORUS/'\",\"r/'INSTRUMENTAL/'\",\"r/'x\\d/'\",\"r/'\\dx/'\",\"r/'X\\d/'\",\"r/'\\d]/'\",\"r/'Bridge/'\",\"r/'HOOK'\",\"r/'Pre/'\",\"r/'INTRO/'\",\"r/'OUTRO/'\",\"r/'\\d/'\",\"r/'^\\w/'\"]"
   ]
  },
  {
   "cell_type": "code",
   "execution_count": 21,
   "metadata": {},
   "outputs": [],
   "source": [
    "#lyricsep4 = lyricsep.replace('Chorus', '')\n",
    "#lyricsep4[8]"
   ]
  },
  {
   "cell_type": "code",
   "execution_count": 23,
   "metadata": {},
   "outputs": [
    {
     "name": "stdout",
     "output_type": "stream",
     "text": [
      "If you search For tenderness It isnt hard to find You can have the love You need to live But if you look For truthfulness You might just As well be blind It always seems to be So hard to give  Honesty Is such a lonely word Everyone is so untrue Honesty Is hardly ever heard And mostly What I need from you I can always Find someone To say They sympathize If I wear my heart Out on my sleeve But I dont want Some pretty face To tell me Pretty lies All I want Is someone To believe  I can find a lover I can find a friend I can have security Until the bitter end Anyone can comfort me With promises again I know I know When Im deep Inside of me Dont be Too concerned I wont ask For nothin While Im gone But when I want Sincerity Tell me where else Can I turn When Youre the one That I depend upon \n"
     ]
    }
   ],
   "source": [
    "#we are only taking away the \\n and keeping this separate in case or for testing function\n",
    "lyricsep2 = [re.sub(r'\\n',' ', i) for i in lyricsep]\n",
    "lyricsep2 = pd.Series(lyricsep2)\n",
    "lyricsep2 = [re.sub(r'\\p{P}','', i) for i in lyricsep2]\n",
    "lyricsep2 = pd.Series(lyricsep2)\n",
    "lyricsep2 = [re.sub(r'Chorus','', i, flags=re.IGNORECASE) for i in lyricsep2]\n",
    "lyricsep2 = pd.Series(lyricsep2)\n",
    "# lyricsep2 = [re.sub]\n",
    "# lyricsep2 = \n",
    "print(lyricsep2[2])"
   ]
  },
  {
   "cell_type": "code",
   "execution_count": 24,
   "metadata": {},
   "outputs": [
    {
     "name": "stdout",
     "output_type": "stream",
     "text": [
      "r/'\\p{P}/'\n",
      "r/'VERSE/'\n",
      "r/'CHORUS/'\n",
      "r/'INSTRUMENTAL/'\n",
      "r/'x\\d/'\n",
      "r/'\\dx/'\n",
      "r/'X\\d/'\n",
      "r/'\\d]/'\n",
      "r/'Bridge/'\n",
      "r/'HOOK'\n",
      "r/'Pre/'\n",
      "r/'INTRO/'\n",
      "r/'OUTRO/'\n",
      "r/'\\d/'\n",
      "r/'^\\w/'\n"
     ]
    }
   ],
   "source": [
    "for j in replace:\n",
    "    print(j)"
   ]
  },
  {
   "cell_type": "code",
   "execution_count": 25,
   "metadata": {},
   "outputs": [
    {
     "data": {
      "text/plain": [
       "'Feel like im loosing my mind Love is so hard to find You led me on to believe you belong to me oh oh Im going through difficult times I always thought you were mine Love doesnt feel like this This is my final wish Hook The next time your truck rolls by No matter how hard I cry Please dont stop in front of me Cause your loves no longer sweet The next time I bring you change Baby please pull back your hand You know your not what I need Let me go Let me do B  Youve got me chasing after you like an ice cream truck I try my luck and catch up but it always out of luck and my heart just melts Youve got me chasing after you like an ice cream truck i try my luck and catch up but its always out of luck and mt heart just melts Verse 2 Faster and faster I ran You sped up and then Just as I thought Ive caught up Im chasing you again Finally You stopped and I jumped on I realized the flavor was wrong you thought i was still holdin on Its good to know whats goin on hook The next your truck rolls by No matter how hard I cry Please dont stop in front of me Cause your loves no longer sweet The next time I bring you change Baby please pull back your hand You know your not what I need Let me go Let me do B  Youve got me chasing after you like an ice cream truck I try my luck and catch up but it always out of luck and my heart just melts Youve got me chasing after you like an ice cream truck i try my luck and catch up but its always out of luck and my heart just melts Bridge you got me chasin you i try my luck i cant catch up cuz you got me chasin you my hearts melting its like ice cream you got me chasin you i try my luck i cant catch up cuz you got me chasin you my hearts melting its like ice cream Bridge ending ive been chasin after you now its time to let you go yes i try time and time agian you dont love me its got to end i tried so hard damn there lost my mind cuz real love is hard to find now my heart cant take no more now i know boy you aint mine  Youve got me chasing after you like an ice cream truck I try my luck and catch up but it always out of luck and my heart just melts Youve got me chasing after you like an ice cream truck i try my luck and catch up but its always out of luck and my heart just melts  Youve got me chasing after you like an ice cream truck I try my luck and catch up but it always out of luck and my heart just melts Youve got me chasing after you like an ice cream truck i try my luck and catch up but its always out of luck and my heart just melts'"
      ]
     },
     "execution_count": 25,
     "metadata": {},
     "output_type": "execute_result"
    }
   ],
   "source": [
    "lyricsep2[84]"
   ]
  },
  {
   "cell_type": "code",
   "execution_count": 26,
   "metadata": {},
   "outputs": [
    {
     "data": {
      "text/plain": [
       "'Verse 1 I read all of the magazines while waiting around you said you couldnt wait to see me but you got stuck in town so turn off the phone now were finally alone and some moments at the end of the day feel your touch and its the sweetest your kisses are my weakness i never want them to go away  i wanna feel you in my heart heart as i look into your eyes eyes no need to get busy so lets take our time and make slow love slow love and every minute that we have have it goes too fast wanna show you how to rock it so this feelin last and make slow love slow love slow love slow love slow love all night Verse 2 it is just a few little things that you gotta know a girl will give you all of her heart when its happening slow i need a little laughter and love will follow after lets take this chance to steal away your kisses are delicious and no one is gonna miss us tonight i really want you to stay  i wanna feel you in my heart heart as i look into your eyes eyes no need to get busy so lets take our time and make slow love slow love and every minute that we have have it goes too fast wanna show you how to rock it so this feelin last and make slow love slow love slow love slow love slow love all night Bridge so Im callin out do you hear my cries dont have to say goodbye your the breath on my skin cherish the taste its far too good to go to waste feel my desire make sweet love all through all through the night make love through the night  i wanna feel you in my heart heart as i look into your eyes eyes no need to get busy so lets take our time and make slow love slow love and every minute that we have have it goes too fast wanna show you how to rock it so this feelin last and make slow love slow love slow love all night  i wanna feel you in my heart heart as i look into your eyes eyes no need to get busy so lets take our time and make slow love slow love and every minute that we have have it goes too fast wanna show you how to rock it so this feelin last and make slow love slow love slow love slow love slow love all night'"
      ]
     },
     "execution_count": 26,
     "metadata": {},
     "output_type": "execute_result"
    }
   ],
   "source": [
    "lyricsep3 = [re.sub(j,'',i, flags=re.IGNORECASE) for j in replace for i in lyricsep2]\n",
    "lyricsep3 = pd.Series(lyricsep3)\n",
    "lyricsep3[8]"
   ]
  },
  {
   "cell_type": "code",
   "execution_count": 27,
   "metadata": {},
   "outputs": [
    {
     "data": {
      "text/plain": [
       "'Feel like im loosing my mind Love is so hard to find You led me on to believe you belong to me oh oh Im going through difficult times I always thought you were mine Love doesnt feel like this This is my final wish Hook The next time your truck rolls by No matter how hard I cry Please dont stop in front of me Cause your loves no longer sweet The next time I bring you change Baby please pull back your hand You know your not what I need Let me go Let me do B  Youve got me chasing after you like an ice cream truck I try my luck and catch up but it always out of luck and my heart just melts Youve got me chasing after you like an ice cream truck i try my luck and catch up but its always out of luck and mt heart just melts Verse 2 Faster and faster I ran You sped up and then Just as I thought Ive caught up Im chasing you again Finally You stopped and I jumped on I realized the flavor was wrong you thought i was still holdin on Its good to know whats goin on hook The next your truck rolls by No matter how hard I cry Please dont stop in front of me Cause your loves no longer sweet The next time I bring you change Baby please pull back your hand You know your not what I need Let me go Let me do B  Youve got me chasing after you like an ice cream truck I try my luck and catch up but it always out of luck and my heart just melts Youve got me chasing after you like an ice cream truck i try my luck and catch up but its always out of luck and my heart just melts Bridge you got me chasin you i try my luck i cant catch up cuz you got me chasin you my hearts melting its like ice cream you got me chasin you i try my luck i cant catch up cuz you got me chasin you my hearts melting its like ice cream Bridge ending ive been chasin after you now its time to let you go yes i try time and time agian you dont love me its got to end i tried so hard damn there lost my mind cuz real love is hard to find now my heart cant take no more now i know boy you aint mine  Youve got me chasing after you like an ice cream truck I try my luck and catch up but it always out of luck and my heart just melts Youve got me chasing after you like an ice cream truck i try my luck and catch up but its always out of luck and my heart just melts  Youve got me chasing after you like an ice cream truck I try my luck and catch up but it always out of luck and my heart just melts Youve got me chasing after you like an ice cream truck i try my luck and catch up but its always out of luck and my heart just melts'"
      ]
     },
     "execution_count": 27,
     "metadata": {},
     "output_type": "execute_result"
    }
   ],
   "source": [
    "lyricsep3[84]"
   ]
  },
  {
   "cell_type": "code",
   "execution_count": 66,
   "metadata": {},
   "outputs": [
    {
     "data": {
      "text/plain": [
       "0    Oh baby how you doing You know Im gonna cut ri...\n",
       "1    playin everything so easy its like you seem so...\n",
       "2    If you search For tenderness It isnt hard to f...\n",
       "3    Oh oh oh I oh oh oh I Verse 1 If I wrote a boo...\n",
       "4    Party the people the people the party its popp...\n",
       "dtype: object"
      ]
     },
     "execution_count": 66,
     "metadata": {},
     "output_type": "execute_result"
    }
   ],
   "source": [
    "lyricsep3.head()"
   ]
  },
  {
   "cell_type": "code",
   "execution_count": 29,
   "metadata": {},
   "outputs": [],
   "source": [
    "#function to able to strip lyrics to the bare minimum, minus \n",
    "def lyricstrip(x):\n",
    "    \n",
    "    replacew = [r'\\p{P}',r'Verse',r'verse',r'VERSE',r'chorus',r'Chorus',r'CHORUS',r'Instrumental',r'instrumental',r'INSTRUMENTAL',r'x\\d',r'\\dx',r'X\\d',r'\\dX',r'Bridge',r'Hook',r'HOOK',r'Pre',r'Intro',r'intro',r'INTRO',r'outro',r'Outro',r'OUTRO',r'\\d',r'^A-Za-z0-9+']\n",
    "\n",
    "    x = [re.sub(r'\\n',' ', i) for i in x]\n",
    "    x = pd.Series(x)\n",
    "#    x= [re.sub(j, '',i, flags=re.IGNORECASE) for j in replace for i in x]\n",
    "#    x = pd.Series(x)\n",
    "#    return x\n",
    "    for j in replacew:\n",
    "        for i in x:\n",
    "            re.sub(j,'',i)\n",
    "    return pd.Series(x)"
   ]
  },
  {
   "cell_type": "code",
   "execution_count": 30,
   "metadata": {},
   "outputs": [
    {
     "name": "stdout",
     "output_type": "stream",
     "text": [
      "0    Oh baby, how you doing? You know I'm gonna cut...\n",
      "1    playin' everything so easy, it's like you seem...\n",
      "2    If you search For tenderness It isn't hard to ...\n",
      "3    Oh oh oh I, oh oh oh I [Verse 1:] If I wrote a...\n",
      "4    Party the people, the people the party it's po...\n",
      "dtype: object\n"
     ]
    },
    {
     "data": {
      "text/plain": [
       "\"playin' everything so easy, it's like you seem so sure. still your ways, you dont see i'm not sure if they're for me. then things come right along our way, though we didn't truly ask. it seems as if they're gonna linger with every delight they bring, just like what you have truly seemed. i'm trying to think of what you really want to say, even through my darkest day. you might want to leave me, feeling strange about you like you're gonna let me know, when words then slipped out of you. when words dont come so easy to say you just leave me feeling, come what may though i want things coming from your way. i say to you, you bore me all the time when you seem to hold back all in you, all that you want to let me know. why dont you have the courage? speak up and i'll listen, if you truly want me to know, then tell me. is there something wrong with you and you seem fastened there. it sounds as if there'll be a melody if things in you are let out and then i will feel alright. when you sleep, do you feel the same, exactly as i do? i really want to hear things from you, though i've felt something new eversince you acted that way. if i go, would you still mind telling me? if i stay, you seem to let the days go by. if you truly want to let me know, then tell me.\""
      ]
     },
     "execution_count": 30,
     "metadata": {},
     "output_type": "execute_result"
    }
   ],
   "source": [
    "lyricstripped = lyricstrip(lyricsep)\n",
    "print(lyricstripped.head())\n",
    "lyricstripped[1]"
   ]
  },
  {
   "cell_type": "code",
   "execution_count": 31,
   "metadata": {},
   "outputs": [
    {
     "data": {
      "text/plain": [
       "'Oh oh oh I, oh oh oh I [Verse 1:] If I wrote a book about where we stand Then the title of my book would be \"Life with Superman\" That\\'s how you make me feel I count you as a privilege This love is so ideal I\\'m honored to be in it I know you feel the same I see it everyday In all the things you do In all the things you say [Chorus:] You are my rock Baby you\\'re the truth You are my rock I love to rock with you You are my rock You\\'re everything I need You are my rock So baby rock with me I wanna kiss ya, feel ya, please ya just right I wanna touch ya, love ya, baby all night Reward ya, for all the things you do You are my rock I love to rock with you I love to rock with you Oh oh oh I [Verse 2:] If I were to try to count the ways You make me smile I\\'d run out of fingers Before I run out of timeless things to talk about Sugar you keeps it going on Make me wanna keep my lovin strong Make me wanna try my best To give you what you want and what you need Give you my whole heart, not just a little piece More than a minimum, I\\'m talking everything More than a single wish, I\\'m talking every dream [Chorus:] You are my rock Baby you\\'re the truth You are my rock I love to rock with you You are my rock You\\'re everything I need You are my rock So baby rock with me I wanna kiss ya, feel ya, please ya just right I wanna touch ya, love ya, baby all night Reward ya, for all the things you do You are my rock I love to rock with you I wanna rock with you [Bridge:] If there\\'s options I don\\'t want them They\\'re not worth my time Cause if it\\'s not you, oh no thank you I like us just fine You\\'re a rock in the sand You\\'re a smile in a cry You\\'re my joy through the pain You\\'re the truth through the lies No matter what I do I know that I can count on you Oh oh oh I, oh oh oh I [Chorus:] You are my rock Baby you\\'re the truth You are my rock I love to rock with you You are my rock You\\'re everything I need You are my rock So baby rock with me I wanna kiss ya, feel ya, please ya just right I wanna touch ya, love ya, baby all night Reward ya, for all the things you do You are my rock I love to rock with you I love to rock with you Oh oh oh I, oh oh oh I I wanna kiss ya, feel ya, please ya just right I wanna touch ya, love ya, baby all night Reward ya, for all the things you do You are my rock I love to rock with you I wanna rock with you'"
      ]
     },
     "execution_count": 31,
     "metadata": {},
     "output_type": "execute_result"
    }
   ],
   "source": [
    "lyricstripped[3]"
   ]
  },
  {
   "cell_type": "code",
   "execution_count": null,
   "metadata": {},
   "outputs": [],
   "source": []
  }
 ],
 "metadata": {
  "kernelspec": {
   "display_name": "Python 3",
   "language": "python",
   "name": "python3"
  },
  "language_info": {
   "codemirror_mode": {
    "name": "ipython",
    "version": 3
   },
   "file_extension": ".py",
   "mimetype": "text/x-python",
   "name": "python",
   "nbconvert_exporter": "python",
   "pygments_lexer": "ipython3",
   "version": "3.7.1"
  }
 },
 "nbformat": 4,
 "nbformat_minor": 2
}
